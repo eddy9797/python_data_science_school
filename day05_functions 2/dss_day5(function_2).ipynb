{
 "cells": [
  {
   "cell_type": "markdown",
   "metadata": {},
   "source": [
    "# Function 2\n",
    "\n",
    "## 학습목표\n",
    " 2. Lambda 함수 이해 및 사용\n",
    " 3. 모듈 임포트 후, 해당 모듈의 함수 사용법 "
   ]
  },
  {
   "cell_type": "markdown",
   "metadata": {},
   "source": [
    "* **Lambda 함수**\n",
    " + 단일문으로 표현되는 익명함수\n",
    " + 익명함수란 이름이 없는 구현체만 존재하는 간단한 함수를 의미\n",
    " + 코드 상에서 한번만 사용되는 기능이 있을 때, 굳이 함수로 만들지 않고 1회성으로 만들어서 쓸 때 사용."
   ]
  },
  {
   "cell_type": "code",
   "execution_count": null,
   "metadata": {
    "collapsed": false
   },
   "outputs": [],
   "source": [
    "def square(x): \n",
    "    return x ** 2\n",
    "\n",
    "lambda x : x ** 2\n",
    "\n",
    "lambda x : x + 2\n",
    "\n",
    "square2 = lambda x : x ** 2\n",
    "\n",
    "print(square)\n",
    "print(square2)\n",
    "\n",
    "print(square(4), square2(4))\n",
    "\n",
    "lambda x, y : x + y"
   ]
  },
  {
   "cell_type": "code",
   "execution_count": null,
   "metadata": {
    "collapsed": false
   },
   "outputs": [],
   "source": [
    "nums = [91, 29, 14, 72, 83, 45]\n",
    "\n",
    "\n",
    "def digit(n):\n",
    "    return n % 10\n",
    "\n",
    "print(sorted(nums, key=digit))\n",
    "\n",
    "\n",
    "print(sorted(nums, key=lambda x : x%10))"
   ]
  },
  {
   "cell_type": "code",
   "execution_count": null,
   "metadata": {
    "collapsed": false
   },
   "outputs": [],
   "source": [
    "nums = [(1, 2), (9, 5), (8, 4), (7, 6), (10, 2), (4, 5)]\n",
    "\n",
    "def get_key(item):\n",
    "    return item[1]\n",
    "\n",
    "print(sorted(nums, key = get_key))\n",
    "print(sorted(nums, key = lambda item : item[0], reverse = True))"
   ]
  },
  {
   "cell_type": "markdown",
   "metadata": {},
   "source": [
    "* **filter, map, reduce**\n",
    " + lambda가 유용하게 사용되는 3가지 대표적 함수\n",
    " + 함수형 프로그래밍의 기본 요소이기도 함\n",
    " + filter : 특정 조건을 만족하는 요소만 남기고 필터링\n",
    " + map    : 각 원소를 주어진 수식에 따라 변형하여 새로운 리스트를 반환\n",
    " + reduce : 차례대로 앞 2개의 원소를 가지고 연산. 연산의 결과가 또 다음 연산의 입력으로 진행됨. 따라서 마지막까지 진행되면 최종 출력은 한개의 값만 남게 됨"
   ]
  },
  {
   "cell_type": "code",
   "execution_count": null,
   "metadata": {
    "collapsed": true
   },
   "outputs": [],
   "source": [
    "nums = list(range(2, 100))\n",
    "\n",
    "print([_f for _f in nums])\n",
    "print([x for x in nums if x % 2 == 0])"
   ]
  },
  {
   "cell_type": "code",
   "execution_count": null,
   "metadata": {
    "collapsed": true
   },
   "outputs": [],
   "source": [
    "list(filter(lambda x : x % 2 == 0, nums))"
   ]
  },
  {
   "cell_type": "markdown",
   "metadata": {},
   "source": [
    "* filter를 이용하여 문자열의 길이가 5이하인 문자열만 필터링 하시오.\n",
    " - 그런데, 혹시 또 다른 방법이 생각나지 않나요?\n",
    " "
   ]
  },
  {
   "cell_type": "code",
   "execution_count": null,
   "metadata": {
    "collapsed": false
   },
   "outputs": [],
   "source": [
    "str1 = ['banana', 'apple', 'cat', 'hahahahahah', 'hahahahah']\n",
    "\n",
    "print([x for x in str1 if len(x) <= 5])\n"
   ]
  },
  {
   "cell_type": "code",
   "execution_count": null,
   "metadata": {
    "collapsed": false
   },
   "outputs": [],
   "source": [
    "str1 = ['banana', 'apple', 'cat', 'hahahahahah', 'hahahahah']\n",
    "\n",
    "list(filter(lambda x: len(x) <= 5, str1))"
   ]
  },
  {
   "cell_type": "markdown",
   "metadata": {},
   "source": [
    "* map을 이용하여 섭씨/화씨 변환을 다시 해보죠.\n",
    " - 그런데, 혹시 또 다른 방법이 생각나진 않나요?\n",
    " \n"
   ]
  },
  {
   "cell_type": "code",
   "execution_count": null,
   "metadata": {
    "collapsed": false
   },
   "outputs": [],
   "source": [
    "nums = list(range(2, 10))\n",
    "print([2**x for x in nums])\n",
    "\n",
    "print(list(map(lambda x: 2**x, nums)))"
   ]
  },
  {
   "cell_type": "code",
   "execution_count": null,
   "metadata": {
    "collapsed": false
   },
   "outputs": [],
   "source": [
    "a = [1,2,3,4]\n",
    "b = [17,12,11,10, 7]\n",
    "c = [-1,-4,5,9]\n",
    "\n",
    "print(list(map(lambda x, y, z : x + y + z, a, b, c)))"
   ]
  },
  {
   "cell_type": "markdown",
   "metadata": {},
   "source": [
    "* reduce 이용하여 원소의 합 구하기"
   ]
  },
  {
   "cell_type": "code",
   "execution_count": null,
   "metadata": {
    "collapsed": false
   },
   "outputs": [],
   "source": [
    "from functools import reduce\n",
    "nums = [1, 2, 9, 8, 5, 4, 7, 10, 3]\n",
    "print(reduce(lambda x, y: x + y, nums))"
   ]
  },
  {
   "cell_type": "markdown",
   "metadata": {},
   "source": [
    "* reduce로 리스트의 최대값을 구해봅시다.\n"
   ]
  },
  {
   "cell_type": "code",
   "execution_count": null,
   "metadata": {
    "collapsed": false
   },
   "outputs": [],
   "source": [
    "from functools import reduce\n",
    "print(reduce(lambda x, y : x if x > y else y, nums))"
   ]
  },
  {
   "cell_type": "markdown",
   "metadata": {},
   "source": [
    "* 연습문제\n",
    " 1. filter를 직접 구현해봅시다. filter2(func, iterable):\n",
    " 2. map을 직접 구현해봅시다. map2(func, iterable):\n",
    " 3. reduce를 직접 구현해 봅시다. reduce2(func, iterable):\n"
   ]
  },
  {
   "cell_type": "code",
   "execution_count": null,
   "metadata": {
    "collapsed": false
   },
   "outputs": [],
   "source": [
    "def hello(name):\n",
    "    print(name)\n",
    "    \n",
    "def run_func(a):\n",
    "    a('mike')\n",
    "    \n",
    "b = hello\n",
    "b('dfd')\n",
    "type(b)"
   ]
  },
  {
   "cell_type": "code",
   "execution_count": null,
   "metadata": {
    "collapsed": false
   },
   "outputs": [],
   "source": [
    "def filter2(func, iterable):\n",
    "    return [x for x in iterable if func(x)]\n",
    "    \n",
    "filter2(lambda x : x > 3, [1, 4, 2, 3, 5])"
   ]
  },
  {
   "cell_type": "code",
   "execution_count": null,
   "metadata": {
    "collapsed": false
   },
   "outputs": [],
   "source": [
    "def map2(func, iterable):\n",
    "    result = []\n",
    "    for x in iterable:\n",
    "        result.append(func(x))\n",
    "    returrn result\n",
    "\n",
    "map2(lambda x : x + 1, [30, 20, 10])"
   ]
  },
  {
   "cell_type": "code",
   "execution_count": null,
   "metadata": {
    "collapsed": false
   },
   "outputs": [],
   "source": [
    "def map3(func, *iterable):\n",
    "    result = []\n",
    "    for t in zip(*iterable):\n",
    "        result.append(func(*t))\n",
    "\n",
    "    return result\n",
    "\n",
    "x = [1, 2, 3]\n",
    "y = [4, 5, 6]\n",
    "\n",
    "map3(lambda a, b : a * b, x, y)"
   ]
  },
  {
   "cell_type": "code",
   "execution_count": null,
   "metadata": {
    "collapsed": false
   },
   "outputs": [],
   "source": [
    "def reduce2(func, iterable):\n",
    "    accumulate = iterable[0]\n",
    "    \n",
    "    for x in iterable[1:]:\n",
    "        accumulate = func(accumulate, x)\n",
    "        \n",
    "    return accumulate\n",
    "\n",
    "reduce2(lambda x, y : x+y , [1, 2, 4, 5])"
   ]
  },
  {
   "cell_type": "markdown",
   "metadata": {},
   "source": [
    "* **예외처리** \n",
    " + try, except 키워드 사용\n",
    "   + try : 예외가 발생할 수 도 있는 코드 작성\n",
    "   + except: 해당 코드 블록에서 예외 발생 시, 프로그램이 종료되지 않고, except 블록 실행\n",
    " + 예외 상황 발생 시, 적절한 대처를 위해 필요함\n",
    " + 함수 작성시, 발생할 수 있는 에러에 대해 처리하는 것이 필요\n"
   ]
  },
  {
   "cell_type": "code",
   "execution_count": null,
   "metadata": {
    "collapsed": true
   },
   "outputs": [],
   "source": [
    "a = [1, 2, 3]\n",
    "print(a[0])\n",
    "print(a[3])\n",
    "\n",
    "print(a)\n",
    "print('hello')"
   ]
  },
  {
   "cell_type": "markdown",
   "metadata": {},
   "source": [
    "* **정상적으로 동작하는 코드**"
   ]
  },
  {
   "cell_type": "code",
   "execution_count": null,
   "metadata": {
    "collapsed": false
   },
   "outputs": [],
   "source": [
    "nums = [1, 2, 3]\n",
    "pos = 2\n",
    "\n",
    "try:\n",
    "    print(nums[pos])\n",
    "    print(nums[0])\n",
    "except:\n",
    "    print('error occurred')\n",
    "\n",
    "print('hahaha again')"
   ]
  },
  {
   "cell_type": "markdown",
   "metadata": {},
   "source": [
    "* **예외가 발생하는 코드**"
   ]
  },
  {
   "cell_type": "code",
   "execution_count": null,
   "metadata": {
    "collapsed": false
   },
   "outputs": [],
   "source": [
    "nums = [1, 2, 3]\n",
    "pos = 4\n",
    "\n",
    "try:\n",
    "    print(nums[pos]) # index out of range 예외 발생\n",
    "    print(1, 2, 3)\n",
    "    print(4, 5, 6)\n",
    "except:\n",
    "    print('need a index between 0 and len(nums)-1', 'but got', pos)\n",
    "    \n",
    "print(nums[0])"
   ]
  },
  {
   "cell_type": "code",
   "execution_count": null,
   "metadata": {
    "collapsed": true
   },
   "outputs": [],
   "source": []
  },
  {
   "cell_type": "markdown",
   "metadata": {},
   "source": [
    "* **finally**\n",
    " + 예외처리 코드에서 항상 마지막에 위치\n",
    " + 예외 발생 여부에 관계 없이 항상 실행해야할 코드"
   ]
  },
  {
   "cell_type": "code",
   "execution_count": null,
   "metadata": {
    "collapsed": false
   },
   "outputs": [],
   "source": [
    "nums = [1, 2, 3]\n",
    "pos = 5\n",
    "\n",
    "try:\n",
    "    print(nums[pos])\n",
    "except:\n",
    "    print('need a index between 0 and len(nums)-1', 'but got', pos)\n",
    "finally:\n",
    "    print('task done')\n",
    "    \n",
    "print(nums[0])"
   ]
  },
  {
   "cell_type": "code",
   "execution_count": null,
   "metadata": {
    "collapsed": true
   },
   "outputs": [],
   "source": [
    "import requests\n",
    "\n",
    "requests.get('http://www.naver.com')"
   ]
  },
  {
   "cell_type": "code",
   "execution_count": null,
   "metadata": {
    "collapsed": true
   },
   "outputs": [],
   "source": []
  },
  {
   "cell_type": "markdown",
   "metadata": {},
   "source": [
    "* 예외 처리 세분화 \n",
    " + Exception으로 보편적으로 다 처리할 수 있다\n",
    " + 세분화하여 처리하면, 각 예외 상황에 따라 다른 처리를 할 수 있다."
   ]
  },
  {
   "cell_type": "code",
   "execution_count": null,
   "metadata": {
    "collapsed": false
   },
   "outputs": [],
   "source": [
    "nums = [0, 1, 2, 3]\n",
    "pos1 = 2\n",
    "pos2 = 0\n",
    "\n",
    "try:\n",
    "    print(nums[pos1] / nums[pos2])\n",
    "except IndexError as err:\n",
    "    #print('need a index between 0 and len(nums)-1', 'but got', pos)\n",
    "    print(str(err))\n",
    "except ZeroDivisionError as other: \n",
    "    print('something else broke', other)\n",
    "except Exception as e:\n",
    "    print(e)\n",
    "    \n",
    "finally:\n",
    "    print('task done')\n",
    "    \n",
    "print(nums[0])"
   ]
  },
  {
   "cell_type": "code",
   "execution_count": null,
   "metadata": {
    "collapsed": false
   },
   "outputs": [],
   "source": [
    "nums = [1, 2, 3, 5, 6]\n",
    "print(nums.index(3))\n",
    "#print(nums.index(4))\n",
    "\n",
    "def get_index(nums, value):\n",
    "    try:\n",
    "        index = nums.index(value)\n",
    "        return index\n",
    "    except:\n",
    "        raise Exception('hey watch out!')\n",
    "\n",
    "try:\n",
    "    get_index(nums, 4)\n",
    "except Exception as e:\n",
    "    print(e)"
   ]
  },
  {
   "cell_type": "markdown",
   "metadata": {},
   "source": [
    "* **모듈 임포트**\n",
    " + 그동안 사용했던 함수들 처럼, 다양한 기능들이 미리 함수로 구현되어 모듈 형태로 제공\n",
    " + 대표적으로 추후 과정에서 사용하게 될 아래의 모듈들이 존재\n",
    " \n",
    " + numpy - pip install numpy\n",
    " + scipy - pip install scipy \n",
    "   - windows의 경우, 설치 되지 않을 경우 아래의 경로에서 차례대로 설치\n",
    "    - http://aka.ms/vcpython27\n",
    "    - https://sourceforge.net/projects/scipy/files/scipy/0.16.1/scipy-0.16.1-win32-superpack-python2.7.exe/download \n",
    "    \n",
    " \n",
    " + pandas - pip install pandas\n",
    " + sklearn  - pip install scikit-learn\n",
    " + matplotlib pip install matplotlib\n",
    " + statsmodels - pip install statsmodels\n",
    " + seaborn - pip install seaborn"
   ]
  },
  {
   "cell_type": "markdown",
   "metadata": {
    "collapsed": true
   },
   "source": [
    "* import / from import"
   ]
  },
  {
   "cell_type": "code",
   "execution_count": null,
   "metadata": {
    "collapsed": true
   },
   "outputs": [],
   "source": [
    "import math"
   ]
  },
  {
   "cell_type": "code",
   "execution_count": null,
   "metadata": {
    "collapsed": false
   },
   "outputs": [],
   "source": [
    "math.pi"
   ]
  },
  {
   "cell_type": "code",
   "execution_count": null,
   "metadata": {
    "collapsed": false
   },
   "outputs": [],
   "source": [
    "import math as m\n",
    "m.pi"
   ]
  },
  {
   "cell_type": "code",
   "execution_count": null,
   "metadata": {
    "collapsed": false
   },
   "outputs": [],
   "source": [
    "from math import pi as pipi\n",
    "pipi"
   ]
  },
  {
   "cell_type": "code",
   "execution_count": null,
   "metadata": {
    "collapsed": false
   },
   "outputs": [],
   "source": [
    "import numpy # 모듈 임포트\n",
    "print(numpy.random.randint(100))"
   ]
  },
  {
   "cell_type": "code",
   "execution_count": null,
   "metadata": {
    "collapsed": false
   },
   "outputs": [],
   "source": [
    "import numpy as np # 모듈 임포트 후 alias(별명) 붙임\n",
    "\n",
    "print(np.random.randint(100))\n",
    "np.random.rand()"
   ]
  },
  {
   "cell_type": "code",
   "execution_count": null,
   "metadata": {
    "collapsed": false
   },
   "outputs": [],
   "source": [
    "from numpy import random as rd # numpy 모듈에서 하위 모듈인 random만을 import\n",
    "\n",
    "print(rd.randint(100))\n"
   ]
  },
  {
   "cell_type": "code",
   "execution_count": null,
   "metadata": {
    "collapsed": true
   },
   "outputs": [],
   "source": [
    "import numpy as np"
   ]
  },
  {
   "cell_type": "code",
   "execution_count": null,
   "metadata": {
    "collapsed": false
   },
   "outputs": [],
   "source": [
    "import numpy.random as random # numpy의 하위모듈인 random만을 import 후, alias 붙임\n",
    "\n",
    "\n",
    "print(random.randint(100))\n",
    "print(random.rand())"
   ]
  },
  {
   "cell_type": "code",
   "execution_count": null,
   "metadata": {
    "collapsed": false
   },
   "outputs": [],
   "source": [
    "import numpy as np\n",
    "print(np.random.rand())"
   ]
  },
  {
   "cell_type": "code",
   "execution_count": null,
   "metadata": {
    "collapsed": true
   },
   "outputs": [],
   "source": [
    "np.random.binomial"
   ]
  },
  {
   "cell_type": "markdown",
   "metadata": {},
   "source": [
    "* matplotlib 모듈\n",
    " - 시각화 담당 모듈\n",
    " - 2차원, 3차원 그래프(선, 막대, 파이차트 등등)"
   ]
  },
  {
   "cell_type": "code",
   "execution_count": null,
   "metadata": {
    "collapsed": false
   },
   "outputs": [],
   "source": [
    "%matplotlib inline\n",
    "import matplotlib.pyplot as plt\n",
    "\n",
    "x = [1, 2, 3, 4]\n",
    "y = [2, 4, 6, 8]\n",
    "\n",
    "plt.plot(x, y)\n",
    "plt.show()"
   ]
  },
  {
   "cell_type": "markdown",
   "metadata": {},
   "source": [
    "* request module\n",
    " - http를 통한 web resource에 접근할 때 사용"
   ]
  },
  {
   "cell_type": "code",
   "execution_count": null,
   "metadata": {
    "collapsed": true
   },
   "outputs": [],
   "source": [
    "import requests\n",
    "response = requests.get('http://www.naver.com')\n",
    "print(response.text)\n",
    "\n",
    "f = open('naver.html', 'w')\n",
    "\n",
    "f.write(response.text)\n",
    "\n",
    "f.close()\n"
   ]
  },
  {
   "cell_type": "markdown",
   "metadata": {},
   "source": [
    "* **collections module **\n",
    " - 리스트, 튜플, 딕셔너리, 셋을 제외한 다른 유용한 data structure를 제공하는 모듈\n",
    " - 아래의 링크에서 문서 확인\n",
    " https://docs.python.org/2/library/collections.html#module-collections"
   ]
  },
  {
   "cell_type": "markdown",
   "metadata": {
    "collapsed": true
   },
   "source": [
    "* Counter \n",
    "  - counting을 목적으로 하는 객체\n",
    "* defaultdict\n",
    "  - 기본값을 갖는 dictionary\n",
    "* OrderedDict\n",
    "  - 순서를 갖는 dictionary (key가 삽입된 순서)"
   ]
  },
  {
   "cell_type": "code",
   "execution_count": null,
   "metadata": {
    "collapsed": false
   },
   "outputs": [],
   "source": [
    "from collections import Counter\n",
    "\n",
    "a = [1, 1, 2, 1, 2, 3, 3, 2, 4, 5, 5, 1]\n",
    "b = Counter(a)\n",
    "print(b)\n",
    "print(b.most_common())\n",
    "print(b[1])\n",
    "print(b[5])\n"
   ]
  },
  {
   "cell_type": "code",
   "execution_count": null,
   "metadata": {
    "collapsed": false
   },
   "outputs": [],
   "source": [
    "from collections import defaultdict\n",
    "\n",
    "a = [1, 1, 2, 1, 2, 3, 3, 2, 4, 5, 5, 1]\n",
    "\n",
    "temp = {}\n",
    "for i in a:\n",
    "    if i in temp:\n",
    "        temp[i] += 1\n",
    "    else:\n",
    "        temp[i] = 1\n",
    "\n",
    "\n",
    "num_dict = defaultdict(int)\n",
    "for i in a:\n",
    "    num_dict[i] += 1\n",
    "        \n",
    "print(num_dict)"
   ]
  },
  {
   "cell_type": "code",
   "execution_count": null,
   "metadata": {
    "collapsed": false
   },
   "outputs": [],
   "source": [
    "from collections import OrderedDict\n",
    "\n",
    "dict1 = OrderedDict()\n",
    "dict1['dd'] = 4\n",
    "dict1['aaa'] = 1\n",
    "dict1['aac'] = 2\n",
    "dict1['ab'] = 100\n",
    "dict1['dd'] = 9\n",
    "\n",
    "\n",
    "dict2 = {}\n",
    "dict2['dd'] = 4\n",
    "dict2['aaa'] = 2\n",
    "dict2['aac'] = 2\n",
    "dict2['ab'] = 100\n",
    "dict2['dd'] = 9\n",
    "\n",
    "\n",
    "print(dict1)\n",
    "print(list(dict1.keys()))\n",
    "\n",
    "print() \n",
    "\n",
    "print(dict2)\n",
    "print(list(dict2.keys()))"
   ]
  },
  {
   "cell_type": "code",
   "execution_count": null,
   "metadata": {
    "collapsed": false
   },
   "outputs": [],
   "source": [
    "d = {'banana': 3, 'apple': 4, 'pear': 1, 'orange': 2}\n",
    "\n",
    "# dictionary sorted by key\n",
    "\n",
    "OrderedDict(sorted(d.items(), key=lambda t: t[0]))"
   ]
  },
  {
   "cell_type": "code",
   "execution_count": null,
   "metadata": {
    "collapsed": false
   },
   "outputs": [],
   "source": [
    "# dictionary sorted by value\n",
    "OrderedDict(sorted(d.items(), key=lambda t: t[1]))"
   ]
  },
  {
   "cell_type": "markdown",
   "metadata": {},
   "source": [
    "* **연습문제**\n",
    " 1. 이진탐색을 재귀함수로 구현해보세요."
   ]
  },
  {
   "cell_type": "code",
   "execution_count": null,
   "metadata": {
    "collapsed": true
   },
   "outputs": [],
   "source": [
    "import random\n",
    "nums = random.sample(range(2000), 200)\n",
    "nums.sort()"
   ]
  },
  {
   "cell_type": "code",
   "execution_count": null,
   "metadata": {
    "collapsed": false
   },
   "outputs": [],
   "source": [
    "nums[78]"
   ]
  },
  {
   "cell_type": "code",
   "execution_count": null,
   "metadata": {
    "collapsed": false
   },
   "outputs": [],
   "source": [
    "def binary_search(nums, k, start=0, end=len(nums)-1):\n",
    "    if start > end:\n",
    "        return None\n",
    "    \n",
    "    mid = (start + end) // 2\n",
    "    if nums[mid] == k:\n",
    "        return mid\n",
    "    \n",
    "    if nums[mid] > k:\n",
    "        return binary_search(nums, k, start, mid-1)\n",
    "    else:\n",
    "        return binary_search(nums, k, mid+1, end)"
   ]
  },
  {
   "cell_type": "code",
   "execution_count": null,
   "metadata": {
    "collapsed": false
   },
   "outputs": [],
   "source": [
    "binary_search(nums, 888)"
   ]
  },
  {
   "cell_type": "markdown",
   "metadata": {},
   "source": [
    "* **과제**\n",
    "  - 미니 그림판\n",
    "  - 그림판 색칠하기 시뮬레이션\n",
    "  - 6 * 6 2차원 문자열 리스트 생성\n",
    "  - 각 리스트의 값에는 문자열이 들어간다고 가정\n",
    "  - 같은 문자열은 같은 색을 나타냄\n",
    "  - 어떤 위치에 색을 칠하면, 그 위치와 인접한 위치의 색도 모두 변경 됨\n",
    "  - 인접한 위치란, 위 아래 좌 우 의 픽셀을 의미함"
   ]
  },
  {
   "cell_type": "code",
   "execution_count": null,
   "metadata": {
    "collapsed": false
   },
   "outputs": [],
   "source": [
    "board = [[1, 1, 2, 2, 2, 2], \n",
    "         [1, 1, 1, 3, 3, 2],\n",
    "         [1, 1, 3, 3, 3, 2],\n",
    "         [4, 5, 5, 3, 3, 2],\n",
    "         [4, 1, 1, 3, 2, 2],\n",
    "         [4, 4, 1, 3, 3, 2]]\n",
    "\n",
    "for row in board:\n",
    "    for item in row:\n",
    "        print(item, end=' ')\n",
    "    print() "
   ]
  },
  {
   "cell_type": "markdown",
   "metadata": {},
   "source": [
    "* ** 2nd project **\n",
    "  - 직쏘 퍼즐 프로그램\n",
    "  - n * n 직쏘 퍼즐을 판을 생성하여 차례대로 숫자를 맞추면 끝나는 게임\n",
    "  - e.g 4 * 4의 경우 아래와 같으면 퍼즐 종료\n",
    "  - proejct2_starter.py 코드가 제공\n",
    "  - 여러분이 각 함수를 알맞게 구현하면 게임이 완성!"
   ]
  },
  {
   "cell_type": "raw",
   "metadata": {},
   "source": [
    "01 02 03 04 \n",
    "05 06 07 08\n",
    "09 10 11 12\n",
    "13 14 15 "
   ]
  }
 ],
 "metadata": {
  "kernelspec": {
   "display_name": "Python 3",
   "language": "python",
   "name": "python3"
  },
  "language_info": {
   "codemirror_mode": {
    "name": "ipython",
    "version": 3
   },
   "file_extension": ".py",
   "mimetype": "text/x-python",
   "name": "python",
   "nbconvert_exporter": "python",
   "pygments_lexer": "ipython3",
   "version": "3.6.2"
  }
 },
 "nbformat": 4,
 "nbformat_minor": 1
}
