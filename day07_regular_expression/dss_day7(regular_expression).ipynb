{
 "cells": [
  {
   "cell_type": "markdown",
   "metadata": {
    "collapsed": true
   },
   "source": [
    " # 정규표현식(Regular Expression)"
   ]
  },
  {
   "cell_type": "markdown",
   "metadata": {},
   "source": [
    "## 학습목표\n",
    " + 정규표현식(re) 에 대한 이해 및 숙지"
   ]
  },
  {
   "cell_type": "markdown",
   "metadata": {},
   "source": []
  },
  {
   "cell_type": "markdown",
   "metadata": {},
   "source": [
    "* 정규표현식 \n",
    " - regular expression\n",
    " - 특정한 패턴과 일치하는 문자열를 '검색', '치환', '제거' 하는 기능을 지원\n",
    " - 정규표현식의 도움없이 패턴을 찾는 작업(Rule 기반)은 불완전 하거나, 작업의 cost가 높음\n",
    " - e.g) 이메일 형식 판별, 전화번호 형식 판별, 숫자로만 이루어진 문자열 등"
   ]
  },
  {
   "cell_type": "markdown",
   "metadata": {},
   "source": [
    "* **re**\n",
    " - 아래의 함수로 각각의 기능을 제공\n",
    " - search\n",
    " - match\n",
    " - findall\n",
    " - sub\n",
    " - split\n",
    " - compile"
   ]
  },
  {
   "cell_type": "markdown",
   "metadata": {},
   "source": [
    "* **기본 패턴**\n",
    " - a, X, 9 등등 문자 하나하나의 character들은 정확히 해당 문자와 일치\n",
    "   - e.g) 패턴 test는 test 문자열과 일치\n",
    "   - 대소문자의 경우 기본적으로 구별하나, 구별하지 않도록 설정 가능\n",
    " - 몇몇 문자들에 대해서는 예외가 존재하는데, 이들은 틀별한 의미로 사용 됨\n",
    "   - . ^ $ * + ? { } [ ] \\ | ( )\n",
    " \n",
    " - . (마침표) - 어떤 한개의 character와 일치 (newline(엔터) 제외)\n",
    " \n",
    " - \\w - 문자 character와 일치 [a-zA-Z0-9_]\n",
    " - \\s - 공백문자와 일치\n",
    " - \\t, \\n, \\r - tab, newline, return\n",
    " - \\d - 숫자 character와 일치 [0-9]\n",
    " - ^ = 시작, $ = 끝 각각 문자열의 시작과 끝을 의미\n",
    " - \\가 붙으면 스페셜한 의미가 없어짐. 예를들어 \\\\.는 .자체를 의미 \\\\\\는 \\를 의미\n",
    " - 자세한 내용은 링크 참조 https://docs.python.org/3/library/re.html"
   ]
  },
  {
   "cell_type": "markdown",
   "metadata": {},
   "source": [
    "* **raw string**\n",
    " - 문자열 앞에 r이 붙으면 해당 문자열이 구성된 그대로 문자열로 변환"
   ]
  },
  {
   "cell_type": "code",
   "execution_count": null,
   "metadata": {},
   "outputs": [],
   "source": [
    "a = 'abcdef\\n'\n",
    "print(a)\n",
    "\n",
    "# raw string\n",
    "b = r'abcdef\\n'\n",
    "print(b)"
   ]
  },
  {
   "cell_type": "markdown",
   "metadata": {},
   "source": [
    "* **search method**\n",
    " - 첫번째로 패턴을 찾으면 match 객체를 반환\n",
    " - 패턴을 찾지 못하면 None 반환"
   ]
  },
  {
   "cell_type": "code",
   "execution_count": null,
   "metadata": {
    "collapsed": true
   },
   "outputs": [],
   "source": [
    "import re"
   ]
  },
  {
   "cell_type": "code",
   "execution_count": null,
   "metadata": {},
   "outputs": [],
   "source": [
    "# 패턴과 패턴을 검색할 문자열을 입력으로 전달\n",
    "# 일반적으로 패턴은 escape문자열이 사용 되기 때문에, raw string으로 사용함\n",
    "m = re.search(r'test', 'test was hard')\n",
    "print(m)\n",
    "\n",
    "# 가장 기본적으로는 각 문자는 해당 문자와 매칭 되기 때문에\n",
    "# 위의 경우에서는 test가 test라는 패턴과 일치하여 결과를 match 객체를 반환"
   ]
  },
  {
   "cell_type": "code",
   "execution_count": null,
   "metadata": {},
   "outputs": [],
   "source": [
    "# piiig에 패턴 iii가 속해 있음\n",
    "match = re.search(r'iii', 'piiig') # 패턴을 찾은 경우\n",
    "print(match)"
   ]
  },
  {
   "cell_type": "code",
   "execution_count": null,
   "metadata": {},
   "outputs": [],
   "source": [
    "print(match.start()) # 문자열에서 매치하는 패턴의 시작 인덱스\n",
    "print(match.end())   # 문자열에서 매치하는 패턴의 마지막 인덱스 + 1\n",
    "print(match.group()) # 문자열에서 매치하는 패턴 문자열"
   ]
  },
  {
   "cell_type": "code",
   "execution_count": null,
   "metadata": {},
   "outputs": [],
   "source": [
    "match = re.search(r'iiiig', 'piiig') # 패턴이 없는 경우\n",
    "print(match) # None 반환"
   ]
  },
  {
   "cell_type": "code",
   "execution_count": null,
   "metadata": {},
   "outputs": [],
   "source": [
    "match = re.search(r'\\d\\d.', 'he1432324')\n",
    "match.start(), match.group()"
   ]
  },
  {
   "cell_type": "markdown",
   "metadata": {},
   "source": [
    "* **metacharacters (메타 캐릭터)**"
   ]
  },
  {
   "cell_type": "markdown",
   "metadata": {},
   "source": [
    "- **[]** 문자들의 범위를 나타내기 위해 사용\n",
    "   - [] 내부의 메타 캐릭터는 캐릭터 자체를 나타냄\n",
    "   - e.g)\n",
    "   - [abck] : a or b or c or k\n",
    "   - [abc.^] : a or b or c or . or ^\n",
    "   - [a-d]  : -와 함께 사용되면 해당 문자 사이의 범위에 속하는 문자 중 하나\n",
    "   - [0-9]  : 모든 숫자\n",
    "   - [a-z]  : 모든 소문자\n",
    "   - [A-Z]  : 모든 대문자\n",
    "   - [a-zA-Z0-9] : 모든 알파벳 문자 및 숫자\n",
    "   - [^0-9] : ^가 맨 앞에 사용 되는 경우 해당 문자 패턴이 아닌 것과 매칭"
   ]
  },
  {
   "cell_type": "code",
   "execution_count": null,
   "metadata": {},
   "outputs": [],
   "source": [
    "print(re.search(r'[cbm]at', 'cat'))\n",
    "print(re.search(r'[cbm]at', 'bat'))\n",
    "print(re.search(r'[cbm]at', 'mat'))\n",
    "print(re.search(r'[cbm]at', 'aat'))"
   ]
  },
  {
   "cell_type": "code",
   "execution_count": null,
   "metadata": {},
   "outputs": [],
   "source": [
    "print(re.search(r'[0-9]haha', '1haha'))\n",
    "print(re.search(r'[0-4]haha', '7haha'))"
   ]
  },
  {
   "cell_type": "code",
   "execution_count": null,
   "metadata": {},
   "outputs": [],
   "source": [
    "print(re.search(r'[abc.^]aron', 'daron'))\n",
    "print(re.search(r'[abc.^]aron', 'caron'))\n",
    "print(re.search(r'[abc.^]aron', '^aron'))"
   ]
  },
  {
   "cell_type": "code",
   "execution_count": null,
   "metadata": {},
   "outputs": [],
   "source": [
    "print(re.search(r'[^abc]aron', '^aron'))\n",
    "print(re.search(r'[^abc]aron', 'aaron'))\n",
    "print(re.search(r'[^abc]aron', 'baron'))\n",
    "print(re.search(r'[^abc]aron', 'caron'))\n",
    "print(re.search(r'[^abc]aron', 'daron karon paron').group())"
   ]
  },
  {
   "cell_type": "markdown",
   "metadata": {},
   "source": [
    "* **\\** \n",
    " 1. 다른 문자와 함께 사용되어 특수한 의미를 지님\n",
    "   - \\d : 숫자를          [0-9]와 동일\n",
    "   - \\D : 숫자가 아닌 문자  [^0-9]와 동일\n",
    "   - \\s : 공백 문자(띄어쓰기, 탭, 엔터 등)\n",
    "   - \\S : 공백이 아닌 문자\n",
    "   - \\w : 알파벳대소문자, 숫자 [0-9a-zA-Z]와 동일\n",
    "   - \\W : non alpha-numeric 문자 [^0-9a-zA-Z]와 동일\n",
    " 2. 메타 캐릭터가 캐릭터 자체를 표현하도록 할 경우 사용\n",
    "   - \\\\. , \\\\\\\n"
   ]
  },
  {
   "cell_type": "code",
   "execution_count": null,
   "metadata": {},
   "outputs": [],
   "source": [
    "m = re.search(r'\\d\\d\\d', 'p123g') \n",
    "print(m.group())\n",
    "\n",
    "m = re.search(r'\\d\\d\\d', '오마이갓123이럴수가') \n",
    "print(m.group())\n",
    "\n",
    "m = re.search(r'\\w\\w\\w', '@@abcd!!')\n",
    "print(m.group())\n",
    "\n",
    "m = re.search(r'\\w\\w\\w', '@@ab0!!')\n",
    "print(m.group())\n",
    "\n",
    "m = re.search(r'\\W\\W', '@%a!!')\n",
    "print(m.group())\n",
    "\n",
    "m = re.search(r'\\w\\w\\w', '@@ab!!')\n",
    "print(m)\n",
    "\n",
    "m = re.search(r'abc', 'ABC', flags=re.IGNORECASE)\n",
    "print(m)\n",
    "\n",
    "m = re.search(r'[aA][bB][cC]', 'ABC')\n",
    "print(m)"
   ]
  },
  {
   "cell_type": "markdown",
   "metadata": {},
   "source": [
    "* **.** \n",
    " - 모든 문자를 의미"
   ]
  },
  {
   "cell_type": "code",
   "execution_count": null,
   "metadata": {},
   "outputs": [],
   "source": [
    "m = re.search(r'...a.', 'b@@ab0!!a')\n",
    "print(m.group())"
   ]
  },
  {
   "cell_type": "code",
   "execution_count": null,
   "metadata": {},
   "outputs": [],
   "source": [
    "m = re.search(r'....a.', 'b@@ab0!!a')\n",
    "print(m)"
   ]
  },
  {
   "cell_type": "code",
   "execution_count": null,
   "metadata": {},
   "outputs": [],
   "source": [
    "m = re.search(r'iii', 'piiiigiiiiik') # 맨 첫번째로 매칭되는 문자열을 반환 \n",
    "print(m.start())\n",
    "print(m.group())"
   ]
  },
  {
   "cell_type": "markdown",
   "metadata": {},
   "source": [
    "* **반복패턴**\n",
    " - 패턴 뒤에 위치하는 *, +, ?는 해당 패턴이 반복적으로 존재하는지 검사 \n",
    "   - '+' -> 1번 이상의 패턴이 발생\n",
    "   - '*' -> 0번 이상의 패턴이 발생\n",
    "   - '?' -> 0 혹은 1번의 패턴이 발생\n",
    " - 반복을 패턴의 경우 greedy하게 검색 함, 즉 가능한 많은 부분이 매칭되도록 함\n",
    "  - e.g) a[bcd]*b  패턴을 abcbdccb에서 검색하는 경우\n",
    "    - ab, abcb, abcbdccb 전부 가능 하지만 최대한 많은 부분이 매칭된 abcbdccb가 검색된 패턴"
   ]
  },
  {
   "cell_type": "code",
   "execution_count": null,
   "metadata": {},
   "outputs": [],
   "source": [
    "re.search(r'a[bcd]*b', 'abcbdccb').group()"
   ]
  },
  {
   "cell_type": "code",
   "execution_count": null,
   "metadata": {},
   "outputs": [],
   "source": [
    "m = re.search(r'pi+g', 'piiig')\n",
    "print(m.group())\n",
    "\n",
    "m = re.search(r'pi+g', 'pg')\n",
    "print(m)\n",
    "\n",
    "m = re.search(r'pi*g', 'pg')\n",
    "print(m.group())"
   ]
  },
  {
   "cell_type": "code",
   "execution_count": null,
   "metadata": {},
   "outputs": [],
   "source": [
    "m = re.search(r'i+', 'piigiiii')\n",
    "print(m.group()) # search는 앞에서 부터 검색 함"
   ]
  },
  {
   "cell_type": "code",
   "execution_count": null,
   "metadata": {},
   "outputs": [],
   "source": [
    "m = re.search(r'\\d\\s*\\d\\s*\\d', 'xx1 2   3xx')\n",
    "print(m.group())"
   ]
  },
  {
   "cell_type": "markdown",
   "metadata": {},
   "source": [
    "* **^**, **$**\n",
    " - ^  문자열의 맨 앞부터 일치하는 경우 검색\n",
    " - \\$  문자열의 맨 뒤부터 일치하는 경우 검색"
   ]
  },
  {
   "cell_type": "code",
   "execution_count": null,
   "metadata": {},
   "outputs": [],
   "source": [
    "m = re.search(r'b\\w+a', 'cabana')\n",
    "print(m.group())\n",
    "\n",
    "m = re.search(r'^b\\w+a', 'cabana')\n",
    "print(m)\n",
    "\n",
    "m = re.search(r'^b\\w+a', 'banana')\n",
    "print(m.group())\n",
    "\n",
    "m = re.search(r'b\\w+a$', 'cabana')\n",
    "print(m.group())\n",
    "\n",
    "m = re.search(r'b\\w+a$', 'cabbbbbbana')\n",
    "print(m.group())\n",
    "\n",
    "m = re.search(r'^c\\w+a$', 'cabana')\n",
    "print(m.group())"
   ]
  },
  {
   "cell_type": "markdown",
   "metadata": {},
   "source": [
    "* **간단 email 주소 패턴**"
   ]
  },
  {
   "cell_type": "code",
   "execution_count": null,
   "metadata": {
    "collapsed": true
   },
   "outputs": [],
   "source": [
    "str1 = 'haha this is awesom macmath22@ macmath22@gmail.com test@gmail.co.kr monkey summer hot'"
   ]
  },
  {
   "cell_type": "markdown",
   "metadata": {},
   "source": [
    "* 연습문제) 위의 문자열에서 이메일 주소를 추출해 보세요"
   ]
  },
  {
   "cell_type": "code",
   "execution_count": null,
   "metadata": {},
   "outputs": [],
   "source": [
    "pattern = r'[\\w.-]+@[\\w.-]+'\n",
    "re.search(pattern, str1).group()"
   ]
  },
  {
   "cell_type": "code",
   "execution_count": null,
   "metadata": {
    "collapsed": true
   },
   "outputs": [],
   "source": []
  },
  {
   "cell_type": "code",
   "execution_count": null,
   "metadata": {
    "collapsed": true
   },
   "outputs": [],
   "source": [
    "# python email checker regex\n",
    "email_regex = r\"(^[a-zA-Z0-9_.+-]+@[a-zA-Z0-9-]+\\.[a-zA-Z0-9-.]+$)\"\n",
    "\n",
    "m = re.search(email_regex,\n",
    "              \"macmath22@gmail.co.kr\")\n",
    "\n",
    "m.group()"
   ]
  },
  {
   "cell_type": "markdown",
   "metadata": {},
   "source": [
    " * **grouping**\n",
    "  - ()을 사용하여 그루핑\n",
    "  - 매칭 결과를 각 그룹별로 분리 가능\n",
    "  - 패턴 명시 할 때, 각 그룹을 괄호() 안에 넣어 분리하여 사용"
   ]
  },
  {
   "cell_type": "code",
   "execution_count": null,
   "metadata": {},
   "outputs": [],
   "source": [
    "m = re.search(r'\\w+@.+',\n",
    "              \"My email is macmath22@gmail.com\")\n",
    "\n",
    "m = re.search(r'(\\w+)@(.+)',\n",
    "              \"My email is macmath22@gmail.com\")\n",
    "\n",
    "print(m.group())\n",
    "print(m.group(0))\n",
    "print(m.group(1))\n",
    "print(m.group(2))"
   ]
  },
  {
   "cell_type": "code",
   "execution_count": null,
   "metadata": {
    "collapsed": true
   },
   "outputs": [],
   "source": [
    "print(m.group()) # 전체결과를 가져옴\n",
    "print(m.group(0)) # 전체결과를 가져옴\n",
    "\n",
    "print(m.group(1)) # 1번째 서브그룹\n",
    "print(m.group(2)) # 2번째 서브그룹"
   ]
  },
  {
   "cell_type": "code",
   "execution_count": null,
   "metadata": {},
   "outputs": [],
   "source": [
    "print(m.groups()) # 전체 그룹을 튜플로 반환"
   ]
  },
  {
   "cell_type": "code",
   "execution_count": null,
   "metadata": {},
   "outputs": [],
   "source": [
    "# 반복이 사용되는 경우 그루핑과 반복의 위치가 중요\n",
    "# 반복이 그루핑 내에 사용되는 경우 전체 매칭이 서브그룹화\n",
    "# 반복이 그루핑 밖에 사용 되는 경우 마지막 매칭만 서브 그룹화\n",
    "m = re.search(r'(pi)+(k+)(\\d)+', 'pipipipikkk12345')\n",
    "m = re.search(r'(pi)+(k+)(\\d+)', 'pitpitpipikkk12345')\n",
    "\n",
    "print(m.group())\n",
    "print(m.group(0))\n",
    "print(m.group(1))\n",
    "print(m.group(2))\n",
    "print(m.group(3))\n",
    "\n",
    "print(m.groups())"
   ]
  },
  {
   "cell_type": "markdown",
   "metadata": {},
   "source": [
    "* 연습문제) \n",
    " - 다음 뉴스의 본문을 크롤링 하는 함수가 주어짐\n",
    " - 이때, 본문의 텍스트에는 기자의 이메일이 포함 됨 \n",
    " - 이때, 기자 이메일 주소를 추출하시오"
   ]
  },
  {
   "cell_type": "code",
   "execution_count": null,
   "metadata": {
    "collapsed": true
   },
   "outputs": [],
   "source": [
    "import requests\n",
    "from bs4 import BeautifulSoup\n",
    "# 위의 두 모듈이 없는 경우에는 pip install requests bs4 실행\n",
    "\n",
    "def get_news_content(url):\n",
    "    response = requests.get(url)\n",
    "    content = response.text\n",
    "\n",
    "    soup = BeautifulSoup(content, 'html5lib')\n",
    "\n",
    "    div = soup.find('div', attrs = {'id' : 'harmonyContainer'})\n",
    "    \n",
    "    content = ''\n",
    "    for paragraph in div.find_all('p'):\n",
    "        content += paragraph.get_text()\n",
    "        \n",
    "    return content"
   ]
  },
  {
   "cell_type": "code",
   "execution_count": null,
   "metadata": {
    "collapsed": true
   },
   "outputs": [],
   "source": [
    "news1 = get_news_content('http://v.media.daum.net/v/20170918164130845')\n",
    "news2 = get_news_content('http://v.media.daum.net/v/20170918142847946')"
   ]
  },
  {
   "cell_type": "code",
   "execution_count": null,
   "metadata": {},
   "outputs": [],
   "source": [
    "print(news1)"
   ]
  },
  {
   "cell_type": "code",
   "execution_count": null,
   "metadata": {},
   "outputs": [],
   "source": [
    "print(news2)"
   ]
  },
  {
   "cell_type": "code",
   "execution_count": null,
   "metadata": {},
   "outputs": [],
   "source": [
    "pattern = r'[\\w_]+[\\w.-]*@[\\w.-]+'\n",
    "\n",
    "\n",
    "re.search(pattern, news1).group(), re.search(pattern, news2).group()"
   ]
  },
  {
   "cell_type": "markdown",
   "metadata": {},
   "source": [
    "* **연습문제)**\n",
    " - 전화번호를 추출하는 정규표현식을 작성하시오\n",
    " - 010-1111-2222"
   ]
  },
  {
   "cell_type": "code",
   "execution_count": null,
   "metadata": {},
   "outputs": [],
   "source": [
    "pattern = r'^010-\\d+-\\d+'\n",
    "phone = '010-1111-2222'\n",
    "re.search(pattern, phone).group()"
   ]
  },
  {
   "cell_type": "markdown",
   "metadata": {},
   "source": [
    " * **{}**\n",
    "  - *, +, ?을 사용하여 반복적인 패턴을 찾는 것이 가능하나, 반복의 횟수 제한은 불가\n",
    "  - 패턴뒤에 위치하는 중괄호{}에 숫자를 명시하면 해당 숫자 만큼의 반복인 경우에만 매칭\n",
    "  - {4} - 4번 반복\n",
    "  - {3,4} - 3 ~ 4번 반복"
   ]
  },
  {
   "cell_type": "code",
   "execution_count": null,
   "metadata": {},
   "outputs": [],
   "source": [
    "pattern = r'^01\\d{1}-\\d{3,4}-\\d{4}'\n",
    "print(re.search(pattern, '010-1111-6360').group())\n",
    "print(re.search(pattern, '010-111-6360').group())\n",
    "print(re.search(pattern, '010-11-6360'))"
   ]
  },
  {
   "cell_type": "markdown",
   "metadata": {},
   "source": [
    "* **match**\n",
    " - search와 유사하나, 주어진 문자열의 시작부터 비교하여 패턴이 있는지 확인\n",
    " - 시작부터 해당 패턴이 존재하지 않다면 None 반환"
   ]
  },
  {
   "cell_type": "code",
   "execution_count": null,
   "metadata": {},
   "outputs": [],
   "source": [
    "m = re.match(r'[\\w-]@[\\w-]+',\n",
    "              \"My email is macmath22@gmail.com\")\n",
    "\n",
    "if m != None:\n",
    "    print(m.group())\n",
    "else:\n",
    "    print('No pattern')\n",
    "    \n",
    "    \n",
    "m = re.match(r'[\\w-]+@[\\w-]+',\n",
    "              \"macmath22@gmail.com is my email\")\n",
    "\n",
    "if m != None:\n",
    "    print(m.group())"
   ]
  },
  {
   "cell_type": "markdown",
   "metadata": {},
   "source": [
    "* **findall**\n",
    " - search가 최초로 매칭되는 패턴만 반환한다면, findall은 매칭되는 전체의 패턴을 반환\n",
    " - 매칭되는 모든 결과를 리스트 형태로 반환"
   ]
  },
  {
   "cell_type": "code",
   "execution_count": null,
   "metadata": {},
   "outputs": [],
   "source": [
    "str = 'What a nice weather macmath22@gmail.com, test@test.com mina@minas.net'\n",
    "emails = re.findall(r'[\\w-]+@[\\w-]+', str) \n",
    "for email in emails:\n",
    "    print(email)"
   ]
  },
  {
   "cell_type": "code",
   "execution_count": null,
   "metadata": {},
   "outputs": [],
   "source": [
    "str = 'What a nice weather macmath22@gmail.com, test@test.com mina@minas.net'\n",
    "emails = re.findall(r'([\\w\\.-]+)@([\\w\\.-]+)', str) \n",
    "for email in emails:\n",
    "    print(email, email[0], email[1]) "
   ]
  },
  {
   "cell_type": "markdown",
   "metadata": {},
   "source": [
    "* **미니멈 매칭(non-greedy way)**\n",
    " - 기본적으로 *, +, ?를 사용하면 greedy(맥시멈 매칭)하게 동작함\n",
    "   - 따라서 패턴 <.+> 가 문자열 <html> hahah </html>의 패턴을 찾는데 사용되면 전체 문자열이 매칭 됨\n",
    " - 이것은 <html>만을 찾고자 하는 의도한 결과가 아니기 때문에, 미니멈 매칭이 필요한 경우도 있음\n",
    " - *?, +?, ??을 이용하여 해당 기능을 구현\n",
    " - 위의 세가지를 사용하면 최소로 만족하는 조건을 검색"
   ]
  },
  {
   "cell_type": "code",
   "execution_count": null,
   "metadata": {},
   "outputs": [],
   "source": [
    "m = re.search(r'<.+>', '<html> haha </html>')\n",
    "print(m.group())\n",
    "print(m.start())\n",
    "print(m.end())"
   ]
  },
  {
   "cell_type": "code",
   "execution_count": null,
   "metadata": {},
   "outputs": [],
   "source": [
    "m = re.search(r'<.+?>', '<html> haha </html>')\n",
    "print(m.group())\n",
    "print(m.start())\n",
    "print(m.end())"
   ]
  },
  {
   "cell_type": "code",
   "execution_count": null,
   "metadata": {},
   "outputs": [],
   "source": [
    "print(re.search(r'a[bcd]*b', 'abccbbdbbd').group())"
   ]
  },
  {
   "cell_type": "code",
   "execution_count": null,
   "metadata": {},
   "outputs": [],
   "source": [
    "print(re.search(r'a[bcd]*?b', 'abccbbdbbd').group())"
   ]
  },
  {
   "cell_type": "code",
   "execution_count": null,
   "metadata": {},
   "outputs": [],
   "source": [
    "print(re.search(r'a[bcd]+b', 'abccbbdbbd').group())"
   ]
  },
  {
   "cell_type": "code",
   "execution_count": null,
   "metadata": {},
   "outputs": [],
   "source": [
    "print(re.search(r'a[bcd]+?b', 'abccbbdbbd').group())"
   ]
  },
  {
   "cell_type": "markdown",
   "metadata": {},
   "source": [
    "* **{}?**\n",
    " - {m,n}의 경우 m번 혹은 n번 반복하나 greedy하게 동작\n",
    " - {m,n}?로 사용하면 non-greedy하게 동작. 즉, 최소 m번만 매칭하면 만족"
   ]
  },
  {
   "cell_type": "code",
   "execution_count": null,
   "metadata": {},
   "outputs": [],
   "source": [
    "print(re.search(r'a{3,5}', 'aaaaaa').group())"
   ]
  },
  {
   "cell_type": "code",
   "execution_count": null,
   "metadata": {},
   "outputs": [],
   "source": [
    "print(re.search(r'a{3,5}?', 'aaaaaa').group())"
   ]
  },
  {
   "cell_type": "code",
   "execution_count": null,
   "metadata": {
    "collapsed": true,
    "scrolled": true
   },
   "outputs": [],
   "source": [
    "print(re.search(r'[pi]+', 'pipipiipiiipppg').group())\n",
    "print(re.search(r'(pi)+', 'pipipiipiiipppg').group())\n",
    "print(re.search(r'[pi]+?', 'pipipiipiiipppg').group())\n",
    "print(re.search(r'[pi]{2,3}', 'pipipiipiiipppg').group())\n",
    "print(re.search(r'[pi]{2,3}?', 'pipipiipiiipppg').group())\n",
    "print(re.search(r'(pi){2,3}', 'pipipiipiiipppg').group())\n",
    "print(re.search(r'(pi){2,3}?', 'pipipiipiiipppg').group())"
   ]
  },
  {
   "cell_type": "markdown",
   "metadata": {},
   "source": [
    "* 연습문제)\n",
    " - 문자열 리스트내에서 올바른 파이썬 변수명만 있는지 판단하시오\n",
    " - 대소문자를 제외한 the라는 단어가 content 문자열에서 몇번 나왔는지 개수를 구하시오 \n",
    " - def is_substring(s, query)를 구현하시오"
   ]
  },
  {
   "cell_type": "code",
   "execution_count": null,
   "metadata": {},
   "outputs": [],
   "source": [
    "content = '''Python is very concise language compared to the other ones\n",
    "Python has powerful tools and the tools are very nice\n",
    "The tools include debugger profiler and the compiler\n",
    "Python is used widely for many reasons and mostly for web apis\n",
    "The apis built from python is about 2 times faster than ruby\n",
    "python is language and also a specification python can be implemented in any language\n",
    "'''\n",
    "\n",
    "pattern = r'\\b[tT]he\\b'\n",
    "\n",
    "re.findall(pattern, content)"
   ]
  },
  {
   "cell_type": "code",
   "execution_count": null,
   "metadata": {},
   "outputs": [],
   "source": [
    "variables = ['abc', '3dbd', 'a_bdd', '3', 'a', 'good344', 'aB_23'] # 각 문자열이 python 변수 명이라고 가정\n",
    "\n",
    "pattern = r'^[a-zA-Z_]+[\\w_]*'\n",
    "\n",
    "for var in variables:\n",
    "    m = re.search(pattern, var)\n",
    "    if m:\n",
    "        print(m.group())"
   ]
  },
  {
   "cell_type": "code",
   "execution_count": null,
   "metadata": {},
   "outputs": [],
   "source": [
    "# str1이 str2의 부분 문자열인지?\n",
    "def is_substring(str1, str2):\n",
    "    return re.search(str1, str2) != None\n",
    "\n",
    "print(is_substring(r'test', 'hahaha tedfdfst'))"
   ]
  },
  {
   "cell_type": "code",
   "execution_count": null,
   "metadata": {},
   "outputs": [],
   "source": [
    "a = [None]\n",
    "if a:\n",
    "    print('hahaha')"
   ]
  },
  {
   "cell_type": "markdown",
   "metadata": {},
   "source": [
    "* **sub**\n",
    " - 주어진 문자열에서 일치하는 모든 패턴을 replace\n",
    " - 그 결과를 문자열로 다시 반환함\n",
    " - 두번째 인자는 특정 문자열이 될 수도 있고, 함수가 될 수 도 있음\n",
    " - count가 0인 경우는 전체를, 1이상이면 해당 숫자만큼 치환 됨"
   ]
  },
  {
   "cell_type": "code",
   "execution_count": null,
   "metadata": {},
   "outputs": [],
   "source": [
    "str = 'What a nice weather macmath22@gmail.com, test@test.com mina@minas.net'\n",
    "replaced = re.sub(r'[\\w.-]+@[\\w.-]+', 'test', str) \n",
    "print(replaced)"
   ]
  },
  {
   "cell_type": "code",
   "execution_count": null,
   "metadata": {},
   "outputs": [],
   "source": [
    "nmap = {'1': 'one', '2': 'two', '3': 'three'}\n",
    "s = \"1 to the 2 to the 3\"\n",
    "\n",
    "# 함수가 사용될 경우, 파라미터로 match객체가 전달됨. 따라서 group을 호출해 주어야 제대로 동작함\n",
    "print(re.sub(r'\\d', lambda m: nmap[m.group()], s))"
   ]
  },
  {
   "cell_type": "markdown",
   "metadata": {},
   "source": [
    "* 실습)\n",
    " - 010-3335-5555형식의 번호를 (010) 3335-5555로 변환하는 함수를 만드시오\n",
    " - grouping을 이용"
   ]
  },
  {
   "cell_type": "code",
   "execution_count": null,
   "metadata": {},
   "outputs": [],
   "source": [
    "pattern = r'(\\d{3})-(\\d{4})-(\\d{4})'\n",
    "replace = r'(\\1)\\2-\\3'\n",
    "\n",
    "result = re.sub(pattern, replace, '010-3457-6360')\n",
    "print(result)"
   ]
  },
  {
   "cell_type": "markdown",
   "metadata": {},
   "source": [
    "* 연습문제\n",
    " - \"one, two three.four*five:six\"에서 one, two, three, four, five, six로 추출해보시오"
   ]
  },
  {
   "cell_type": "code",
   "execution_count": null,
   "metadata": {},
   "outputs": [],
   "source": [
    "test = \"one,two three.four*five:six\"\n",
    "a, b = test.split(',')\n",
    "b, c = b.split(' ')\n",
    "a, b, c"
   ]
  },
  {
   "cell_type": "markdown",
   "metadata": {},
   "source": [
    "* **split**\n",
    " - 문자열의 split과 유사하나, 정규표현식을 이용하여 더 편리하게 분할 가능"
   ]
  },
  {
   "cell_type": "code",
   "execution_count": null,
   "metadata": {},
   "outputs": [],
   "source": [
    "a = \"one,two three.four*five:six\"\n",
    "print(re.split(r'[:,.*\\s]*', a))"
   ]
  },
  {
   "cell_type": "markdown",
   "metadata": {},
   "source": [
    "* **compile**\n",
    " - 동일한 정규표현식을 매번 다시 쓰기 번거로움을 해결\n",
    " - compile로 해당표현식을 re.RegexObject 객체로 저장하여 사용가능"
   ]
  },
  {
   "cell_type": "code",
   "execution_count": null,
   "metadata": {
    "collapsed": true
   },
   "outputs": [],
   "source": [
    "import re\n",
    "\n",
    "email_reg = re.compile(r'[\\w.-]+@[\\w.-]+')\n",
    "\n",
    "m = email_reg.search('What a nice weather macmath22@gmail.com, test@test.com mina@minas.net')\n",
    "if m:\n",
    "    print(m.group())\n",
    "    \n",
    "\n",
    "print(email_reg.findall('What a nice weather macmath22@gmail.com, test@test.com mina@minas.net'))\n",
    "\n",
    "print(email_reg.sub('test', 'My email is macmath22@gmail.com'))"
   ]
  },
  {
   "cell_type": "markdown",
   "metadata": {},
   "source": [
    " * 연습문제 \n",
    "  - 다음중 올바른 (http, https) 웹페이지만 찾으시오"
   ]
  },
  {
   "cell_type": "code",
   "execution_count": null,
   "metadata": {
    "collapsed": true
   },
   "outputs": [],
   "source": [
    "webs = ['http://www.test.co.kr', \n",
    "        'https://www.test1.com', \n",
    "        'http://www.test.com', \n",
    "        'ftp://www.test.com', \n",
    "        'http:://www.test.com',\n",
    "       'htp://www.test.com',\n",
    "       'http://www.google.com', \n",
    "       'https://www.homepage.com']"
   ]
  },
  {
   "cell_type": "code",
   "execution_count": null,
   "metadata": {},
   "outputs": [],
   "source": [
    "pattern = r'https?://[\\w.]+'\n",
    "for url in webs:\n",
    "    m = re.search(pattern, url)\n",
    "    if m:\n",
    "        print(m.group())"
   ]
  },
  {
   "cell_type": "code",
   "execution_count": null,
   "metadata": {
    "collapsed": true
   },
   "outputs": [],
   "source": [
    "import requests\n",
    "\n",
    "res = requests.get('http://www.naver.com')\n",
    "re.findall(pattern, res.text)"
   ]
  },
  {
   "cell_type": "code",
   "execution_count": null,
   "metadata": {
    "collapsed": true
   },
   "outputs": [],
   "source": []
  }
 ],
 "metadata": {
  "kernelspec": {
   "display_name": "Python 2",
   "language": "python",
   "name": "python2"
  },
  "language_info": {
   "codemirror_mode": {
    "name": "ipython",
    "version": 2
   },
   "file_extension": ".py",
   "mimetype": "text/x-python",
   "name": "python",
   "nbconvert_exporter": "python",
   "pygments_lexer": "ipython2",
   "version": "2.7.13"
  }
 },
 "nbformat": 4,
 "nbformat_minor": 1
}
