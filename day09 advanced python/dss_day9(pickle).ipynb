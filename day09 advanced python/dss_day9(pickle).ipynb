{
 "cells": [
  {
   "cell_type": "markdown",
   "metadata": {
    "collapsed": true
   },
   "source": [
    "## 학습목표\n",
    " * pickle 모듈 이해 및 실습"
   ]
  },
  {
   "cell_type": "markdown",
   "metadata": {},
   "source": [
    "### pickle\n",
    " - python serialization module\n",
    "   + 객체를 다시 해당객체로 변환이 가능한 문자열로 변환\n",
    "   + 네트워크로 전송 혹은 파일에 저장하기 위해 사용\n",
    "     + 객체 자체를 네트워크, 파일에 저장할 수 없음\n",
    " - https://docs.python.org/3/library/pickle.html"
   ]
  },
  {
   "cell_type": "code",
   "execution_count": null,
   "metadata": {
    "collapsed": true
   },
   "outputs": [],
   "source": [
    "import pickle\n",
    "persons = {'aaron' : 1, 'bob' : 2, 'cathy' : 3}\n",
    "\n",
    "# 파일에 객체를 저장\n",
    "pickle.dump(persons, open('obj', 'wb'))"
   ]
  },
  {
   "cell_type": "code",
   "execution_count": null,
   "metadata": {
    "collapsed": true
   },
   "outputs": [],
   "source": [
    "import pickle\n",
    "\n",
    "# 파일에서 객체를 읽어옴\n",
    "p2 = pickle.load(open('obj', 'rb'))\n",
    "print p2"
   ]
  },
  {
   "cell_type": "code",
   "execution_count": null,
   "metadata": {
    "collapsed": true
   },
   "outputs": [],
   "source": [
    "# 객체를 문자열로 저장\n",
    "string = pickle.dumps(persons)\n",
    "print string"
   ]
  },
  {
   "cell_type": "code",
   "execution_count": null,
   "metadata": {
    "collapsed": true
   },
   "outputs": [],
   "source": [
    "# 문자열을 객체로 변환\n",
    "print pickle.loads(string)"
   ]
  }
 ],
 "metadata": {
  "kernelspec": {
   "display_name": "Python 2",
   "language": "python",
   "name": "python2"
  },
  "language_info": {
   "codemirror_mode": {
    "name": "ipython",
    "version": 2
   },
   "file_extension": ".py",
   "mimetype": "text/x-python",
   "name": "python",
   "nbconvert_exporter": "python",
   "pygments_lexer": "ipython2",
   "version": "2.7.13"
  }
 },
 "nbformat": 4,
 "nbformat_minor": 1
}
