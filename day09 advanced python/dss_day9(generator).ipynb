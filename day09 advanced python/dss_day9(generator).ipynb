{
 "cells": [
  {
   "cell_type": "markdown",
   "metadata": {},
   "source": [
    "# Generator"
   ]
  },
  {
   "cell_type": "markdown",
   "metadata": {},
   "source": [
    "## 학습목표\n",
    " - iterator, iterable의 이해 및 실습\n",
    " - generator 이해 및 실습"
   ]
  },
  {
   "cell_type": "markdown",
   "metadata": {},
   "source": [
    "### generator\n",
    " - 파이썬 시퀀스(순회 가능한 객체)를 생성하는 object\n",
    " - list와 다르게 한꺼번에 생성되어 메모리를 차지하지 않음\n",
    " - list comprehension과 유사하나 ()를 사용하여 생성\n",
    "   - gen = (i for i in range(5)) gen -> generator object\n",
    "   - lst = [i for i in range(5)] lst -> list object\n",
    "   "
   ]
  },
  {
   "cell_type": "code",
   "execution_count": null,
   "metadata": {},
   "outputs": [],
   "source": [
    "# list comprehension example\n",
    "lst = [i ** 2 for i in range(5)]\n",
    "\n",
    "print(type(lst))\n",
    "print(lst)"
   ]
  },
  {
   "cell_type": "code",
   "execution_count": null,
   "metadata": {},
   "outputs": [],
   "source": [
    "for num in lst:\n",
    "    print(num, end=' ')\n",
    "    \n",
    "print()\n",
    "    \n",
    "for num in lst:\n",
    "    print(num, end=' ')"
   ]
  },
  {
   "cell_type": "markdown",
   "metadata": {},
   "source": [
    "* generator example"
   ]
  },
  {
   "cell_type": "code",
   "execution_count": null,
   "metadata": {},
   "outputs": [],
   "source": [
    "gen = (i ** 2 for i in range(5))\n",
    "print(type(gen)) \n",
    "print(gen) # generator 객체\n"
   ]
  },
  {
   "cell_type": "code",
   "execution_count": null,
   "metadata": {},
   "outputs": [],
   "source": [
    "for num in gen:\n",
    "    print(num, end=' ')\n",
    "    \n",
    "for num in gen:\n",
    "    print(num, end=' ')"
   ]
  },
  {
   "cell_type": "markdown",
   "metadata": {},
   "source": [
    "### iterator & iterable\n",
    " - iterable\n",
    "     - 순회 가능한 객체를 의미\n",
    "     - list, dictionary, string, file 등\n",
    " - iterator\n",
    "     - 순회 자체를 추상화된 객체\n",
    "     - iter 함수\n",
    "       - python 내장 함수\n",
    "       - iterator객체 생성\n",
    "       - https://docs.python.org/2/library/functions.html#iter\n",
    "       \n",
    "     - next 함수\n",
    "       - python 내장 함수\n",
    "       - iterator의 다음 값, 즉 순환하는 값을 반환함\n",
    "       - 순환하고자 하는 값이 없을 경우 StopIteration 에러 발생\n",
    "       - https://docs.python.org/2/library/functions.html#next"
   ]
  },
  {
   "cell_type": "code",
   "execution_count": null,
   "metadata": {
    "collapsed": true
   },
   "outputs": [],
   "source": [
    "it = iter(list(range(5))) # 순환 객체 반환\n",
    "\n",
    "print(type(it))\n",
    "print(it)"
   ]
  },
  {
   "cell_type": "code",
   "execution_count": null,
   "metadata": {
    "collapsed": true
   },
   "outputs": [],
   "source": [
    "it = iter(list(range(5))) # 순환 객체 반환\n",
    "\n",
    "# next 함수를 호출하여 하나씩 값을 순회\n",
    "print(next(it))\n",
    "print(next(it))\n",
    "print(next(it))\n",
    "print(next(it))\n",
    "print(next(it))\n",
    "\n",
    "# 더이상 순회할 아이템에 없을 때, StopIteration 발생\n",
    "print(next(it))"
   ]
  },
  {
   "cell_type": "code",
   "execution_count": null,
   "metadata": {
    "collapsed": true
   },
   "outputs": [],
   "source": [
    "# iterator 객체의 next 멤버함수도 이용가능\n",
    "\n",
    "it = iter(list(range(5)))\n",
    "print(next(it))\n",
    "print(next(it))\n",
    "print(next(it))\n",
    "print(next(it))\n",
    "print(next(it))\n",
    "\n",
    "# 더이상 순회할 아이템에 없을 때, StopIteration 발생\n",
    "print(next(it))"
   ]
  },
  {
   "cell_type": "markdown",
   "metadata": {},
   "source": [
    "* **for**\n",
    " - 내부적으로 iterator와 next를 사용한 코드로 구성\n",
    " - StopIteration이 발생하기 전까지 next를 호출"
   ]
  },
  {
   "cell_type": "code",
   "execution_count": null,
   "metadata": {
    "collapsed": true
   },
   "outputs": [],
   "source": [
    "it = iter(list(range(5)))\n",
    "for num in it:\n",
    "    print(num, end=' ')"
   ]
  },
  {
   "cell_type": "markdown",
   "metadata": {},
   "source": [
    "* **while - iterator 순회**"
   ]
  },
  {
   "cell_type": "code",
   "execution_count": null,
   "metadata": {
    "collapsed": true
   },
   "outputs": [],
   "source": [
    "it = iter(list(range(5)))\n",
    "while True:\n",
    "    try:\n",
    "        val = next(it)\n",
    "        print(val, end=' ')\n",
    "    except StopIteration:\n",
    "        break"
   ]
  },
  {
   "cell_type": "markdown",
   "metadata": {},
   "source": [
    "* Custom iterable object\n",
    "  -  __iter__ 함수를 구현하여 iterable 객체 생성 가능\n",
    "  - iterator객체를 생성하여 next함수를 구현"
   ]
  },
  {
   "cell_type": "code",
   "execution_count": null,
   "metadata": {
    "collapsed": true
   },
   "outputs": [],
   "source": [
    "class Zrange(object):\n",
    "    def __init__(self, n):\n",
    "        self.n = n\n",
    "    \n",
    "    # iterable 객체로 만듦.\n",
    "    # 즉, 순회가 가능하게 됨\n",
    "    def __iter__(self):\n",
    "        return Zrange_iter(self.n)\n",
    "    \n",
    "\n",
    "class Zrange_iter(object):\n",
    "    def __init__(self, n):\n",
    "        self.i = 0\n",
    "        self.n = n\n",
    "        \n",
    "    def __next__(self):\n",
    "        if self.i < len(self.n):\n",
    "            val = self.n[self.i]\n",
    "            self.i += 1\n",
    "            return val\n",
    "        else:\n",
    "            raise StopIteration()"
   ]
  },
  {
   "cell_type": "code",
   "execution_count": null,
   "metadata": {
    "collapsed": true
   },
   "outputs": [],
   "source": [
    "z = Zrange('hello')\n",
    "\n",
    "for i in z:\n",
    "    print(i, end=' ')"
   ]
  },
  {
   "cell_type": "code",
   "execution_count": null,
   "metadata": {
    "collapsed": true
   },
   "outputs": [],
   "source": [
    "z = Zrange('hello')\n",
    "\n",
    "it = iter(z)\n",
    "\n",
    "print(next(it))\n",
    "print(next(it))\n",
    "print(next(it))\n",
    "print(next(it))\n",
    "print(next(it))\n",
    "\n",
    "print(next(it))"
   ]
  },
  {
   "cell_type": "code",
   "execution_count": null,
   "metadata": {
    "collapsed": true
   },
   "outputs": [],
   "source": [
    "# for문을 사용하여 바로 순회 가능\n",
    "for num in Zrange(5):\n",
    "    print(num, end=' ')\n",
    "    \n",
    "    \n",
    "it = iter(zrange(5))"
   ]
  },
  {
   "cell_type": "markdown",
   "metadata": {},
   "source": [
    "* iterable과 iterator를 하나의 객체로 구현"
   ]
  },
  {
   "cell_type": "code",
   "execution_count": null,
   "metadata": {
    "collapsed": true
   },
   "outputs": [],
   "source": [
    "class zrange(object):\n",
    "    def __init__(self, n):\n",
    "        self.i = 0\n",
    "        self.n = n\n",
    "        \n",
    "    # zrange 객체를 iterable 하게 만듦\n",
    "    def __iter__(self):\n",
    "        return self\n",
    "    \n",
    "    def __next__(self):\n",
    "        if self.i < self.n:\n",
    "            val = self.i\n",
    "            self.i += 1\n",
    "            return val\n",
    "        else:\n",
    "            raise StopIteration()"
   ]
  },
  {
   "cell_type": "code",
   "execution_count": null,
   "metadata": {
    "collapsed": true
   },
   "outputs": [],
   "source": [
    "z = zrange(5)\n",
    "print(next(z))\n",
    "print(next(z))\n",
    "print(next(z))\n",
    "print(next(z))\n",
    "print(next(z))\n",
    "\n",
    "# StopIteration예외 발생\n",
    "print(next(z))"
   ]
  },
  {
   "cell_type": "code",
   "execution_count": null,
   "metadata": {
    "collapsed": true
   },
   "outputs": [],
   "source": [
    "z = zrange(5)\n",
    "\n",
    "for num in z:\n",
    "    print(num, end=' ')"
   ]
  },
  {
   "cell_type": "markdown",
   "metadata": {},
   "source": [
    "* 연습문제) 거꾸로 값을 순회하는 reverse_range 클래스를 생성하세요"
   ]
  },
  {
   "cell_type": "code",
   "execution_count": null,
   "metadata": {
    "collapsed": true
   },
   "outputs": [],
   "source": [
    "class reverse_range(object):\n",
    "    def __init__(self, n):\n",
    "        self.n = n\n",
    "        \n",
    "    # zrange 객체를 iterable 하게 만듦\n",
    "    def __iter__(self):\n",
    "        return self\n",
    "    \n",
    "    def __next__(self):\n",
    "        if 0 < self.n:\n",
    "            val = self.n\n",
    "            self.n -= 1\n",
    "            return val\n",
    "        else:\n",
    "            raise StopIteration()\n",
    "            \n",
    "for i in reverse_range(5):\n",
    "    print(i, end=' ')"
   ]
  },
  {
   "cell_type": "markdown",
   "metadata": {},
   "source": [
    "* **generator iteration**"
   ]
  },
  {
   "cell_type": "code",
   "execution_count": null,
   "metadata": {
    "collapsed": true
   },
   "outputs": [],
   "source": [
    "# list comprehension과 전부 동일하나 ()를 사용한다는 것만 다름\n",
    "gen = (i ** 2 for i in range(5))\n",
    "\n",
    "print(next(gen))\n",
    "print(next(gen))\n",
    "print(next(gen))\n",
    "print(next(gen))\n",
    "print(next(gen))\n",
    "print(next(gen)) # -> StopIteration 예외 발생\n",
    "\n",
    "# generator의 경우 한번만 소비(순회) 가능\n"
   ]
  },
  {
   "cell_type": "code",
   "execution_count": null,
   "metadata": {
    "collapsed": true
   },
   "outputs": [],
   "source": [
    "gen = (i ** 2 for i in range(5))\n",
    "\n",
    "for num in gen:\n",
    "    print(num, end=' ')\n",
    "    \n",
    "print() \n",
    "print('-' * 30)\n",
    "\n",
    "# 이미 순회하였기 때문에 출력되지 않음\n",
    "for num in gen:\n",
    "    print(num, end=' ')"
   ]
  },
  {
   "cell_type": "code",
   "execution_count": null,
   "metadata": {
    "collapsed": true
   },
   "outputs": [],
   "source": [
    "gen = (i ** 2 for i in range(5))\n",
    "\n",
    "for num in gen:\n",
    "    print(num, end=' ')\n",
    "    \n",
    "print() \n",
    "print('-' * 30)\n",
    "\n",
    "# 다시 순회하기 위해, 다시 generator 객체 생성\n",
    "gen = (i ** 2 for i in range(5))\n",
    "for num in gen:\n",
    "    print(num, end=' ')"
   ]
  },
  {
   "cell_type": "markdown",
   "metadata": {},
   "source": [
    "* **generator function**\n",
    " - 시퀀스를 생성하여 반환하는 함수\n",
    " - **yield 키워드**를 사용하여 값을 생성 (not 반환)\n",
    " - 호출 결과는 generator 객체 반환\n",
    " - 함수 호출은, 순회가 시작되어야 수행됨"
   ]
  },
  {
   "cell_type": "code",
   "execution_count": null,
   "metadata": {
    "collapsed": true
   },
   "outputs": [],
   "source": [
    "def generate_org(n):\n",
    "    i = 0\n",
    "    lst = []\n",
    "    \n",
    "    while i < n:\n",
    "        lst.append(i)\n",
    "        \n",
    "    return lst\n",
    "\n",
    "def generate(n):    \n",
    "    i = 0\n",
    "    while i < n:\n",
    "        # 함수가 yield를 포함하면 generator function\n",
    "        # 호출한 곳으로 새로운 값 generate\n",
    "        # 함수가 종료되는 것이 아닌 다시 다음 라인부터 실행됨\n",
    "        yield i \n",
    "        i += 1\n"
   ]
  },
  {
   "cell_type": "code",
   "execution_count": null,
   "metadata": {},
   "outputs": [],
   "source": [
    "# 함수가 실행되지 않음, 단순히 generator 객체 반환\n",
    "# next 함수가 호출될 때 함수가 실행 됨\n",
    "\n",
    "gen = generate(5)\n",
    "print(type(gen))\n",
    "print(gen)"
   ]
  },
  {
   "cell_type": "code",
   "execution_count": null,
   "metadata": {},
   "outputs": [],
   "source": [
    "print(next(gen))"
   ]
  },
  {
   "cell_type": "code",
   "execution_count": null,
   "metadata": {},
   "outputs": [],
   "source": [
    "print(next(gen))\n",
    "print(next(gen))\n",
    "print(next(gen))\n",
    "print(next(gen))\n",
    "print(next(gen)) # StopIteration"
   ]
  },
  {
   "cell_type": "code",
   "execution_count": null,
   "metadata": {
    "collapsed": true
   },
   "outputs": [],
   "source": [
    "def generate2(n):\n",
    "    print('started')\n",
    "    \n",
    "    i = 0\n",
    "    while i < n:\n",
    "        print('before yield', i)\n",
    "        yield i\n",
    "        i += 1\n",
    "        print('after yield', i)\n",
    "    \n",
    "    print('ended')\n",
    "    "
   ]
  },
  {
   "cell_type": "code",
   "execution_count": null,
   "metadata": {
    "collapsed": true
   },
   "outputs": [],
   "source": [
    "gen2 = generate2(3)"
   ]
  },
  {
   "cell_type": "code",
   "execution_count": null,
   "metadata": {},
   "outputs": [],
   "source": [
    "# 함수 수행되지 않음\n",
    "gen2 = generate2(3)\n",
    "for i in gen2:\n",
    "    print(i, end=' ')\n",
    "gen2 = generate2(3)\n",
    "for i in gen2:\n",
    "    print(i, end=' ')"
   ]
  }
 ],
 "metadata": {
  "kernelspec": {
   "display_name": "Python 3",
   "language": "python",
   "name": "python3"
  },
  "language_info": {
   "codemirror_mode": {
    "name": "ipython",
    "version": 3
   },
   "file_extension": ".py",
   "mimetype": "text/x-python",
   "name": "python",
   "nbconvert_exporter": "python",
   "pygments_lexer": "ipython3",
   "version": "3.6.1"
  }
 },
 "nbformat": 4,
 "nbformat_minor": 2
}
