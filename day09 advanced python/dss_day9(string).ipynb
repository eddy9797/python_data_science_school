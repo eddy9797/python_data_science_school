{
 "cells": [
  {
   "cell_type": "markdown",
   "metadata": {
    "collapsed": true
   },
   "source": [
    "# Text & Byte"
   ]
  },
  {
   "cell_type": "markdown",
   "metadata": {},
   "source": [
    "## 학습목표\n",
    " 1. python3 str의 이해\n",
    " 2. unicode, code point의 이해"
   ]
  },
  {
   "cell_type": "markdown",
   "metadata": {},
   "source": [
    "### Unicode \n",
    " - 세계에서 사용되는 모든 문자를 일관되게 표현하기 위한 문자 표기 방식\n",
    " - code point라는 값이 각 문자마다 할당되어 있음\n",
    " - 영어의 경우 ASCII코드값에 1바이트(0) 패딩이 추가되어있음\n",
    " - python3에서 str은 유니코드 사용"
   ]
  },
  {
   "cell_type": "code",
   "execution_count": null,
   "metadata": {},
   "outputs": [],
   "source": [
    "a = 'A'\n",
    "a, type(a), hex(ord(a)), len(a)"
   ]
  },
  {
   "cell_type": "code",
   "execution_count": null,
   "metadata": {},
   "outputs": [],
   "source": [
    "a = '가'\n",
    "a, type(a), hex(ord(a)), len(a)"
   ]
  },
  {
   "cell_type": "markdown",
   "metadata": {},
   "source": [
    " ### Encoding, Decoding\n",
    "  - encoding : code point to bytes\n",
    "  - decoding : bytes to code point"
   ]
  },
  {
   "cell_type": "markdown",
   "metadata": {},
   "source": [
    "### bytes, bytearray\n",
    " - byte(0-255) container"
   ]
  },
  {
   "cell_type": "markdown",
   "metadata": {},
   "source": [
    "* **bytes**\n",
    " - immutable(불변 타입)\n",
    " - 0 - 255사이의 값\n",
    " - 유니코드가 code point값이 아닌 인코딩된 문자열"
   ]
  },
  {
   "cell_type": "code",
   "execution_count": null,
   "metadata": {},
   "outputs": [],
   "source": [
    "b1 = bytes([65, 255, 200, 0])\n",
    "b1, type(b1)"
   ]
  },
  {
   "cell_type": "code",
   "execution_count": null,
   "metadata": {},
   "outputs": [],
   "source": [
    "b1[0], b1[1]"
   ]
  },
  {
   "cell_type": "code",
   "execution_count": null,
   "metadata": {},
   "outputs": [],
   "source": [
    "b[0] = 244 # immutable!"
   ]
  },
  {
   "cell_type": "code",
   "execution_count": null,
   "metadata": {},
   "outputs": [],
   "source": [
    "for b in b1:\n",
    "    print(b, end=' ')"
   ]
  },
  {
   "cell_type": "code",
   "execution_count": null,
   "metadata": {},
   "outputs": [],
   "source": [
    "b1 = bytes(b'hello')\n",
    "b1"
   ]
  },
  {
   "cell_type": "code",
   "execution_count": null,
   "metadata": {},
   "outputs": [],
   "source": [
    "for b in b1:\n",
    "    print(b, end=' ')"
   ]
  },
  {
   "cell_type": "markdown",
   "metadata": {},
   "source": [
    "* **bytearray**\n",
    " - mutable byte array"
   ]
  },
  {
   "cell_type": "code",
   "execution_count": null,
   "metadata": {},
   "outputs": [],
   "source": [
    "b2 = bytearray([65, 255, 200, 0])\n",
    "b2, type(b2)"
   ]
  },
  {
   "cell_type": "code",
   "execution_count": null,
   "metadata": {},
   "outputs": [],
   "source": [
    "b2[0], b2[1]"
   ]
  },
  {
   "cell_type": "code",
   "execution_count": null,
   "metadata": {},
   "outputs": [],
   "source": [
    "b2[0] = 67\n",
    "b2"
   ]
  },
  {
   "cell_type": "markdown",
   "metadata": {},
   "source": [
    "### Unicode(str)와 bytes변환 "
   ]
  },
  {
   "cell_type": "code",
   "execution_count": null,
   "metadata": {},
   "outputs": [],
   "source": [
    "a = 'hello'\n",
    "b = a.encode('utf-8')\n",
    "b, type(b)"
   ]
  },
  {
   "cell_type": "code",
   "execution_count": null,
   "metadata": {},
   "outputs": [],
   "source": [
    "c = b.decode('utf-8')\n",
    "c, type(c)"
   ]
  },
  {
   "cell_type": "code",
   "execution_count": null,
   "metadata": {},
   "outputs": [],
   "source": [
    "a = '한글'\n",
    "b = a.encode('utf-8')\n",
    "b, type(b)"
   ]
  },
  {
   "cell_type": "code",
   "execution_count": null,
   "metadata": {},
   "outputs": [],
   "source": [
    "b = a.encode('euc-kr')\n",
    "b, type(b)"
   ]
  },
  {
   "cell_type": "markdown",
   "metadata": {},
   "source": [
    "### Web, Database에서 한글 사용하는 경우\n",
    " - b'\\xc0\\xa5\\xbf\\xa1\\xbc\\xad \\xc5\\xa9\\xb7\\xd1\\xb8\\xb5\\xc7\\xd1 \\xb5\\xa5\\xc0\\xcc\\xc5\\xcd'\n",
    " - 외부에서 데이터를 읽어왔는데 위와 같이 표시 된다면, 이것은 인코딩된 byte형태\n",
    " - 해당 데이터는 문자열(unicode)로 다시 디코딩하여 사용가능"
   ]
  },
  {
   "cell_type": "code",
   "execution_count": null,
   "metadata": {},
   "outputs": [],
   "source": [
    "data = b'\\xc0\\xa5\\xbf\\xa1\\xbc\\xad \\xc5\\xa9\\xb7\\xd1\\xb8\\xb5\\xc7\\xd1 \\xb5\\xa5\\xc0\\xcc\\xc5\\xcd'\n",
    "\n",
    "# 문자열이 인코딩된 방식은 web page에서 확인 가능\n",
    "data_str = data.decode('euc-kr')\n",
    "data_str"
   ]
  },
  {
   "cell_type": "markdown",
   "metadata": {
    "collapsed": true
   },
   "source": [
    "### 정규표현식 한글 선택하기"
   ]
  },
  {
   "cell_type": "code",
   "execution_count": null,
   "metadata": {
    "collapsed": true
   },
   "outputs": [],
   "source": [
    "import re"
   ]
  },
  {
   "cell_type": "code",
   "execution_count": null,
   "metadata": {},
   "outputs": [],
   "source": [
    "pattern = r'[가-힣]+'\n",
    "re.findall(pattern, 'this is a english string 한글이 숨어있다. haha python good 여기도 있다 gogo')"
   ]
  },
  {
   "cell_type": "code",
   "execution_count": null,
   "metadata": {},
   "outputs": [],
   "source": [
    "# 혹은 유니코드 포인트 범위로 명시 가능\n",
    "pattern = '[\\uac00-\\ud7a3]+'\n",
    "re.findall(pattern, 'this is a english string 한글이 숨어있다. haha python good 한글만 추출됩니다 gogo')"
   ]
  }
 ],
 "metadata": {
  "kernelspec": {
   "display_name": "Python 3",
   "language": "python",
   "name": "python3"
  },
  "language_info": {
   "codemirror_mode": {
    "name": "ipython",
    "version": 3
   },
   "file_extension": ".py",
   "mimetype": "text/x-python",
   "name": "python",
   "nbconvert_exporter": "python",
   "pygments_lexer": "ipython3",
   "version": "3.6.1"
  }
 },
 "nbformat": 4,
 "nbformat_minor": 2
}
