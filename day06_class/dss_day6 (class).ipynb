{
 "cells": [
  {
   "cell_type": "markdown",
   "metadata": {},
   "source": [
    "# Class & Object "
   ]
  },
  {
   "cell_type": "markdown",
   "metadata": {},
   "source": [
    "## 학습목표\n",
    " 1. 클래스와 오브젝트에 대한 이해\n",
    " 2. 클래스 설계 구현 및 사용 숙지"
   ]
  },
  {
   "cell_type": "markdown",
   "metadata": {},
   "source": [
    "* **class란?**\n",
    " + 실세계의 것을 모델링하여 속성(attribute)와 동작(method)를 갖는 데이터 타입\n",
    " + python에서의 string, int, list, dict.. 모두가 다 클래스로 존재\n",
    " + 예를들어 학생이라는 클래스를 만든다면, 학생을 나타내는 속성과 학생이 행하는 행동을 함께 정의 할 수 있음\n",
    " + project2에서 처럼 각 함수는 파라미터로 전달되는 데이터에 대한 처리를 담당하는데, 프로젝트가 커지고 각각 다루는 함수와 변수가 많아 질수록 유지보수에 어려움이 있음\n",
    " + 따라서, 다루고자 하는 데이터(변수) 와 데이터를 다루는 연산(함수)를 하나로 캡슐화(encapsulation)하여 클래스로 표현\n",
    " + 모델링에서 중요시 하는 속성에 따라 클래스의 속성과 행동이 각각 달라짐"
   ]
  },
  {
   "cell_type": "markdown",
   "metadata": {},
   "source": [
    "* **object 란?**\n",
    " - 클래스로 생성되어 구체화된 객체(인스턴스)\n",
    " - 파이썬의 모든 것(int, str, list..etc)은 객체(인스턴스)\n",
    " - 실제로 class가 인스턴스화 되어 메모리에 상주하는 상태를 의미\n",
    " - class가 빵틀이라면, object는 실제로 빵틀로 찍어낸 빵이라고 비유 가능\n"
   ]
  },
  {
   "cell_type": "code",
   "execution_count": null,
   "metadata": {
    "collapsed": true
   },
   "outputs": [],
   "source": [
    "# 실제로 메모리에 구체화된 값을 가진 실체\n",
    "# 속성(attribute), 동작(method)를 가짐\n",
    "num = 100\n",
    "print(num.bit_length())\n",
    "\n",
    "a = list()\n",
    "\n",
    "b = [1, 2, 3]\n",
    "b.append(7)\n"
   ]
  },
  {
   "cell_type": "markdown",
   "metadata": {},
   "source": [
    "* **class 선언하기**\n",
    "  - 객체를 생성하기 위해선 객체의 모체가 되는 class를 미리 선언해야 함 "
   ]
  },
  {
   "cell_type": "code",
   "execution_count": null,
   "metadata": {
    "collapsed": true
   },
   "outputs": [],
   "source": [
    "# camel case\n",
    "def test_simulation_method():\n",
    "    pass\n",
    "\n",
    "class Person:\n",
    "    pass\n",
    "\n",
    "p1 = Person()\n",
    "print(type(p1))\n",
    "\n",
    "p2 = Person()\n",
    "print(p2)"
   ]
  },
  {
   "cell_type": "markdown",
   "metadata": {},
   "source": [
    "* __init__(self)\n",
    " + 생성자, 클래스 인스턴스가 생성될 때 호출됨\n",
    " + self인자는 항상 첫번째에 오며 자기 자신을 가리킴\n",
    " + 이름이 꼭 self일 필요는 없지만, 관례적으로 self로 사용\n",
    " \n",
    " + 생성자에서는 해당 클래스가 다루는 데이터를 정의\n",
    "   - 이 데이터를 멤버 변수(member variable) 또는 속성(attribute)라고 함"
   ]
  },
  {
   "cell_type": "code",
   "execution_count": null,
   "metadata": {
    "collapsed": true
   },
   "outputs": [],
   "source": [
    "class Person:\n",
    "    # constructor, 생성자\n",
    "    def __init__(self, n, a):\n",
    "        self.name = n\n",
    "        self.age = a\n",
    "        \n",
    "s1 = Person('Ted', 23)\n",
    "s2 = Person('Bob', 33)\n",
    "\n",
    "print(s1.name, s1.age)\n",
    "print(s2.name, s2.age)"
   ]
  },
  {
   "cell_type": "markdown",
   "metadata": {},
   "source": [
    "* **mehtod 정의**\n",
    " + 멤버함수라고도 하며, 해당 클래스의 object에서만 호출가능\n",
    " + 메쏘드는 객체 레벨에서 호출되며, 해당 객체의 속성에 대한 연산을 행함\n",
    " + {obj}.{method}() 형태로 호출됨"
   ]
  },
  {
   "cell_type": "code",
   "execution_count": null,
   "metadata": {
    "collapsed": true
   },
   "outputs": [],
   "source": [
    "class Person(object):\n",
    "    def __init__(self, name, height):\n",
    "        self.name = name\n",
    "        self.height = height\n",
    "        \n",
    "    def work(self, hour):\n",
    "        print('{} works {} hour very hard' \\\n",
    "            .format(self.name, hour))\n",
    "        \n",
    "def work():\n",
    "    print('Work hard but just a function')\n",
    "\n",
    "p1 = Person('Tracy', 190)\n",
    "p1.work(10)\n",
    "\n",
    "p2 = Person('Aaron', 190)\n",
    "p2.work(20)\n",
    "\n",
    "# 에러 발생. why?\n",
    "#p1 = [1, 2, 34]\n",
    "#p1.work()\n",
    "\n",
    "work()"
   ]
  },
  {
   "cell_type": "code",
   "execution_count": null,
   "metadata": {
    "collapsed": true
   },
   "outputs": [],
   "source": [
    "class Person(object):\n",
    "    \n",
    "    def __init__(self, name):\n",
    "        self.name = name\n",
    "        \n",
    "    def work(self):\n",
    "        print('{} works very hard'.format(self.name))\n",
    "        \n",
    "    def sleep(self):\n",
    "        print('{} sleeps every day'.format(self.name))\n",
    "        \n",
    "\n",
    "p1 = Person('aaron')\n",
    "p1.work()\n",
    "p1.sleep()\n",
    "\n",
    "p2 = Person('bob')\n",
    "p2.work()\n",
    "\n",
    "\n",
    "print(p1)\n",
    "print(p2)"
   ]
  },
  {
   "cell_type": "markdown",
   "metadata": {},
   "source": [
    "* ** private, protected, public**\n",
    "  - c++, java 등의 기타 OOP 언어와는 달리, 파이썬의 경우 리스트릭트한 제한자 적용을 할 수 없음 \n",
    "  - 파이썬에서의 모든 속성, 메쏘드는 기본적으로 **public**\n",
    "  - 즉, 클래스의 외부에서 속성, 메쏘드에 접근이 가능 (사용 가능)"
   ]
  },
  {
   "cell_type": "code",
   "execution_count": null,
   "metadata": {
    "collapsed": true
   },
   "outputs": [],
   "source": [
    "class Bottle:\n",
    "    def __init__(self, quantity):\n",
    "        self.quantity = quantity\n",
    "        \n",
    "    def fill(self, quantity):    \n",
    "        if quantity < 0:\n",
    "            print('invalid amount')\n",
    "            return \n",
    "        self.quantity = quantity\n",
    "        \n",
    "    def empty(self):\n",
    "        self.quantity = 0\n",
    "        \n",
    "    def show(self):\n",
    "        print('{}ml inside the bottle'.format(self.quantity))\n",
    "        \n",
    "bottle = Bottle(20)\n",
    "bottle.fill(100)\n",
    "bottle.empty()\n",
    "\n",
    "bottle.show()\n",
    "\n",
    "#bottle.quantity = -20\n",
    "bottle.fill(-20)\n",
    "bottle.show()\n"
   ]
  },
  {
   "cell_type": "markdown",
   "metadata": {},
   "source": [
    "* ** protected **\n",
    " - protected 속성의 경우, 해당 클래스와 그것의 하위 클래스에서만 접근 가능\n",
    " - 파이썬에서는 해당 속성의 앞에 _(single underscore) 를 붙여서 해결\n",
    " - 다만, 실제 runtime에서의 제약 사항은 아니고, 실제 클래스를 사용하는 사용자에게 경고 형태로만 제공"
   ]
  },
  {
   "cell_type": "code",
   "execution_count": null,
   "metadata": {
    "collapsed": true
   },
   "outputs": [],
   "source": [
    "class Bottle:\n",
    "    def __init__(self, quantity):\n",
    "        self._quantity = quantity\n",
    "        \n",
    "    def fill(self, quantity):\n",
    "        if self._quantity + quantity > 100:\n",
    "            self._quantity = 100\n",
    "        else:\n",
    "            self._quantity += quantity\n",
    "        \n",
    "    def empty(self):\n",
    "        self._quantity = 0\n",
    "        \n",
    "    def show(self):\n",
    "        print('{}ml inside the bottle'.format(self._quantity))\n",
    "        \n",
    "bottle = Bottle(20)\n",
    "bottle.fill(40)\n",
    "\n",
    "bottle.show()\n",
    "\n",
    "bottle.fill(50)\n",
    "\n",
    "bottle.show()\n",
    "\n",
    "# 100ml 이상 담을 수 없게 구현했으나, 사용자가 마음대로 외부에서 설정\n",
    "print(bottle._quantity)\n",
    "\n",
    "bottle.fill(2000)\n",
    "bottle._quantity = 2000\n",
    "\n",
    "bottle.show()"
   ]
  },
  {
   "cell_type": "markdown",
   "metadata": {},
   "source": [
    "* **private**\n",
    "  - 해당 클래스의 외부에서는 접근 불가능\n",
    "  - 파이썬의 경우 속성이름 앞에 __(double underscore)를 붙여서 private 속성으로 설정\n",
    "    - name mangling을 통해 속성의 이름을 변경하는 기법으로 private으로 설정\n",
    "  - 해당 속성의 경우, 클래스의 외부에서 접근할 경우 에러 발생"
   ]
  },
  {
   "cell_type": "code",
   "execution_count": null,
   "metadata": {
    "collapsed": true
   },
   "outputs": [],
   "source": [
    "class Bottle:\n",
    "    def __init__(self, quantity):\n",
    "        self.__quantity = quantity\n",
    "        \n",
    "    def fill(self, quantity):\n",
    "        if self.__quantity + quantity > 100:\n",
    "            self.__quantity = 100\n",
    "        else:\n",
    "            self.__quantity += quantity\n",
    "        \n",
    "    def empty(self):\n",
    "        self.__quantity = 0\n",
    "        \n",
    "    def show(self):\n",
    "        print('{}ml inside the bottle'.format(self.__quantity))\n",
    "        \n",
    "bottle = Bottle(20)\n",
    "bottle.fill(100)\n",
    "bottle.empty()\n",
    "\n",
    "bottle.show()\n",
    "\n",
    "# 아무 변화를 주지 못함\n",
    "print(bottle.__quantity)\n",
    "bottle.__quantity = 3000\n",
    "\n",
    "#name mangling으로 속성의 이름을 변경\n",
    "#bottle._Bottle__quantity = 3000\n",
    "\n",
    "bottle.show()"
   ]
  },
  {
   "cell_type": "markdown",
   "metadata": {},
   "source": [
    "* **연습문제**\n",
    "0. Circle class를 작성하세요\n",
    "  - radius 속성을 갖습니다.\n",
    "  - 생성자에서 해당 속성을 초기화 합니다. __init__(self, radius)\n",
    "  - 넓이, 둘레를 구하는 함수를 작성하세요 get_area(self),  get_length(self)\n",
    "  \n",
    "1. BankAccount class를 작성하세요\n",
    "  - 해당 클래스는 amount라는 속성을 갖습니다.\n",
    "  - 생성자에서 해당 속성을 초기화 해줍니다. (__init__(self, amount))\n",
    "  - 해당 클래스는 인출, 저금의 기능을 갖습니다. withdraw(self, amount), save(self, amount)\n",
    "  - 해당 클래스는 잔액 확인 기능을 갖습니다. check(self)\n",
    "  - 해당 클래스는 복리 이자 체크 기능을 갖습니다. check_interest(self, interest_month, duration_month)\n",
    "\n",
    "2. 학생 성적 class관리를 위해 class를 작성하세요\n",
    " - 해당 클래스는 kor, eng, math라는 float 속성을 갖습니다.\n",
    " - 해당 클래스는 각 점수를 출력 기능을 갖습니다. print(self)\n",
    " - 해당 클래스는 점수의 평균을 반환하는 기능을 갖습니다. get_average(self)\n",
    " \n",
    "3. 비디오 가게 관리 class를 작성하세요\n",
    " - videos라는 딕셔너리 속성을 갖습니다.\n",
    " - 새 비디오 추가 기능 add_video(title)\n",
    " - 비디오 검색 기능 find_video(title)\n",
    " - 비디오가 신작인지 아닌지 판별하는 함수 (나온지 일주일 내를 신작이라고 평가) is_new_release(title)"
   ]
  },
  {
   "cell_type": "code",
   "execution_count": null,
   "metadata": {
    "collapsed": true
   },
   "outputs": [],
   "source": [
    "class Circle:\n",
    "    def __init__(self, r):\n",
    "        self.radius = r\n",
    "        \n",
    "    def get_area(self):\n",
    "        return 3.14 * self.radius ** 2\n",
    "        \n",
    "    def get_length(self):\n",
    "        return 2 * 3.14 * self.radius\n",
    "        \n",
    "\n",
    "c1 = Circle(10)\n",
    "c2 = Circle(20)\n",
    "\n",
    "c1.get_area()"
   ]
  },
  {
   "cell_type": "code",
   "execution_count": null,
   "metadata": {
    "collapsed": true
   },
   "outputs": [],
   "source": [
    "class BankAccount:\n",
    "    def __init__(self, amount):\n",
    "        self.amount = amount\n",
    "        \n",
    "    def deposit(self, amount):\n",
    "        self.amount += amount\n",
    "        \n",
    "    def withdraw(self, amount):\n",
    "        if self.amount >= amount:\n",
    "            self.amount -= amount\n",
    "        else:\n",
    "            print('not enough money')\n",
    "        \n",
    "    def check(self):\n",
    "        print('money :', self.amount)\n",
    "        \n",
    "    def check_interest(self, interest, duration):\n",
    "        return self.amount * (1 + interest) ** duration\n",
    "        \n",
    "    \n",
    "b1 = BankAccount(1000)\n",
    "b1.deposit(20000)\n",
    "\n",
    "b1.check()\n",
    "\n",
    "b1.withdraw(300000)\n",
    "\n",
    "b1.check()"
   ]
  },
  {
   "cell_type": "markdown",
   "metadata": {},
   "source": [
    " * **Class Inheritance (상속)**\n",
    "  - 기존에 정의해둔 클래스의 기능을 그대로 물려받을 수 있다.\n",
    "  - 기존 클래스에 기능 일부를 추가하거나, 변경하여 새로운 클래스를 정의한다.\n",
    "  - 코드를 재사용할 수 있게된다.\n",
    "  - 상속 받고자 하는 대상인 기존 클래스는 (Parent, Super, Base class 라고 부른다.)\n",
    "  - 상속 받는 새로운 클래스는(Child, Sub, Derived class 라고 부른다.)\n",
    "  - 의미적으로 is-a관계를 갖는다"
   ]
  },
  {
   "cell_type": "code",
   "execution_count": null,
   "metadata": {
    "collapsed": true
   },
   "outputs": [],
   "source": [
    "class Person:\n",
    "    pass\n",
    "\n",
    "class Student(Person):\n",
    "    pass\n",
    "\n",
    "p1 = Person()\n",
    "s1 = Student()\n",
    "\n",
    "print(p1)\n",
    "print(s1)"
   ]
  },
  {
   "cell_type": "code",
   "execution_count": null,
   "metadata": {
    "collapsed": true
   },
   "outputs": [],
   "source": [
    "class Person:\n",
    "    def work(self):\n",
    "        print('work hard')\n",
    "\n",
    "#class Student(object):\n",
    "class Student(Person):\n",
    "    pass\n",
    "\n",
    "p1 = Person()\n",
    "s1 = Student()\n",
    "\n",
    "p1.work()\n",
    "s1.work()"
   ]
  },
  {
   "cell_type": "markdown",
   "metadata": {},
   "source": [
    "* **method override**\n",
    " - 부모 클래스의 method를 재정의(override)\n",
    " - 하위 클래스(자식 클래스) 의 인스턴스로 호출시, 재정의된 메소드가 호출됨"
   ]
  },
  {
   "cell_type": "code",
   "execution_count": null,
   "metadata": {
    "collapsed": true
   },
   "outputs": [],
   "source": [
    "class Person:\n",
    "    def work(self):\n",
    "        print('work hard')\n",
    "\n",
    "class Student(Person):\n",
    "    def work(self):\n",
    "        print('Study hard')\n",
    "        \n",
    "p1 = Person()\n",
    "s1 = Student()\n",
    "\n",
    "p1.work()\n",
    "s1.work()"
   ]
  },
  {
   "cell_type": "code",
   "execution_count": null,
   "metadata": {
    "collapsed": true
   },
   "outputs": [],
   "source": [
    "class Person:\n",
    "    def work(self):\n",
    "        print('work hard')\n",
    "\n",
    "class Student(Person):\n",
    "    def work(self):\n",
    "        print('Study hard')\n",
    "        \n",
    "    def go_to_school(self):\n",
    "        print('Go to school')\n",
    "        \n",
    "\n",
    "p1 = Person()\n",
    "s1 = Student()\n",
    "\n",
    "p1.work()\n",
    "#p1.go_to_school()\n",
    "\n",
    "s1.work()\n",
    "s1.go_to_school()"
   ]
  },
  {
   "cell_type": "markdown",
   "metadata": {},
   "source": [
    "* super \n",
    " - 하위클래스(자식 클래스)에서 부모클래스의 method를 호출할 때 사용"
   ]
  },
  {
   "cell_type": "code",
   "execution_count": null,
   "metadata": {
    "collapsed": true
   },
   "outputs": [],
   "source": [
    "class Person:\n",
    "    def __init__(self, name):\n",
    "        self.name = name\n",
    "        print(self.name)\n",
    "\n",
    "class Student(Person):\n",
    "    pass\n",
    "\n",
    "p1 = Person('aaron')\n",
    "s1 = Student('aaron')"
   ]
  },
  {
   "cell_type": "code",
   "execution_count": null,
   "metadata": {
    "collapsed": true
   },
   "outputs": [],
   "source": [
    "class Person:\n",
    "    def __init__(self, name):\n",
    "        self.name = 'Dr.' + name\n",
    "        print(self.name)\n",
    "\n",
    "class Student(Person):\n",
    "    def __init__(self, name, email):\n",
    "        super().__init__(name)\n",
    "\n",
    "        #self.name = name # 위와 무엇이 다를까요?\n",
    "        self.email = emailf\n",
    "        \n",
    "    def print_name(self):\n",
    "        print(self.name, self.email)\n",
    "        \n",
    "p1 = Person('bob')\n",
    "s1 = Student('aaron', 'macmath22@gmail.com')\n",
    "\n",
    "s1.print_name()\n",
    "\n",
    "print(isinstance(s1, Person))  \n",
    "print(isinstance(s1, Student)) \n",
    "\n",
    "print(isinstance(p1, Person))  \n",
    "print(isinstance(p1, Student))  \n",
    "\n",
    "#print s1.name, s1.email\n",
    "#print p1.name, #p1.email"
   ]
  },
  {
   "cell_type": "markdown",
   "metadata": {},
   "source": [
    "* **self**\n",
    " - 파이썬의 method는 항상 첫번째 인자로 self를 전달\n",
    " - self는 현재 해당 메쏘드가 호출되는 객체 자신을 가리킴\n",
    " - C++/C#, Java의 this에 해당\n",
    " - 역시, 이름이 self일 필요는 없으나, 위치는 항상 맨 처음의 parameter이며 관례적으로 self로 사용"
   ]
  },
  {
   "cell_type": "code",
   "execution_count": null,
   "metadata": {
    "collapsed": true
   },
   "outputs": [],
   "source": [
    "class Person:\n",
    "    def __init__(self, name):\n",
    "        self.name = name\n",
    "        print(self.name)\n",
    "        \n",
    "    def study(self, hour):\n",
    "        print(self.name)\n",
    "        self.study_english(hour)\n",
    "        self.study_science(hour)\n",
    "    \n",
    "    def study_english(self, hour):\n",
    "        print('studying english for {}'.format(hour))\n",
    "    \n",
    "    def study_science(self, hour):\n",
    "        print('studying science for {}'.format(hour))\n",
    "        \n",
    "p1 = Person('bob')\n",
    "p1.study(10)\n",
    "\n",
    "\n"
   ]
  },
  {
   "cell_type": "code",
   "execution_count": null,
   "metadata": {
    "collapsed": true
   },
   "outputs": [],
   "source": [
    "p1 = Person('aaron')\n",
    "print(p1.name)\n",
    "p1.test = 100\n",
    "\n",
    "p2 = Person('Ted')\n",
    "print(p2.name)"
   ]
  },
  {
   "cell_type": "markdown",
   "metadata": {},
   "source": [
    "* **method type**\n",
    " - instance method - 객체로 호출\n",
    "   - 메쏘드는 객체 레벨로 호출 되기 때문에, 해당 메쏘드를 호출한 객체에만 영향을 미침\n",
    " - class method    - class로 호출\n",
    "       - 클래스 메쏘드의 경우, 클래스 레벨로 호출되기 때문에, 클래스 멤버 변수만 변경 가능\n"
   ]
  },
  {
   "cell_type": "code",
   "execution_count": null,
   "metadata": {
    "collapsed": true
   },
   "outputs": [],
   "source": [
    "class A(object):\n",
    "    count = 0 # static member (class variable)\n",
    "    \n",
    "    def __init__(self, cnt):\n",
    "        A.count += 1\n",
    "        self.cnt = cnt # member variable, attribute\n",
    "        \n",
    "    def print_cnt(self): # memeber function, method\n",
    "        print(self.cnt)\n",
    "        \n",
    "    @classmethod # class method, static function\n",
    "    def print_count(cls):\n",
    "        print(cls.count)\n",
    "        \n",
    "a1 = A(1)\n",
    "a2 = A(2)\n",
    "a3 = A(44)\n",
    "\n",
    "a1.print_cnt()\n",
    "a2.print_cnt()\n",
    "a3.print_cnt()\n",
    "\n",
    "A.print_count()"
   ]
  },
  {
   "cell_type": "markdown",
   "metadata": {},
   "source": [
    "* **Duck typing**\n",
    " - 다형성에 대한 느슨한 구현.\n",
    " - 클래스에 관계없이 같은 동작을 다른객체에 적용\n",
    " - 타입에 관계없이 같은 method를 구현한 것으로 다형성에 활용"
   ]
  },
  {
   "cell_type": "code",
   "execution_count": null,
   "metadata": {
    "collapsed": true
   },
   "outputs": [],
   "source": [
    "class BaseballPlayer:\n",
    "    def __init__(self, name):\n",
    "        self.name = name\n",
    "        \n",
    "    def play(self):\n",
    "        print(self.name, 'play baseball')\n",
    "        \n",
    "class BasketballPlayer:\n",
    "    def __init__(self, name):\n",
    "        self.name = name\n",
    "        \n",
    "    def play(self):\n",
    "        print(self.name, 'play basketball')\n",
    "        \n",
    "\n",
    "class Video(object):\n",
    "    def play(self):\n",
    "        print('video played...')\n",
    "        \n",
    "        \n",
    "b1 = BaseballPlayer('aaron')\n",
    "b2 = BaseballPlayer('bob')\n",
    "b3 = BaseballPlayer('mike')\n",
    "\n",
    "b11 = BasketballPlayer('sam')\n",
    "b12 = BasketballPlayer('knight')\n",
    "b13 = BasketballPlayer('tim')\n",
    "\n",
    "b1.play()\n",
    "b2.play()\n",
    "\n",
    "players = [b1, b11, b12, b2, b3, b13]\n",
    "\n",
    "for player in players:\n",
    "    player.play()\n",
    "        "
   ]
  },
  {
   "cell_type": "markdown",
   "metadata": {},
   "source": [
    "* **special method**\n",
    " - \\__로 시작 __로 끝나는 특수 함수\n",
    " - 해당 메쏘드들을 구현하면, 커스텀 객체에 여러가지 파이썬 내장 함수나 연산자를 적용 가능\n",
    " - https://docs.python.org/3/reference/datamodel.html"
   ]
  },
  {
   "cell_type": "code",
   "execution_count": null,
   "metadata": {
    "collapsed": true
   },
   "outputs": [],
   "source": [
    "1 + 2 + 3"
   ]
  },
  {
   "cell_type": "code",
   "execution_count": null,
   "metadata": {},
   "outputs": [],
   "source": [
    "class Point:\n",
    "    def __init__(self, x, y):\n",
    "        self.x = x\n",
    "        self.y = y\n",
    "        \n",
    "    def __add__(self, p):    \n",
    "        return Point(self.x + p.x, self.y + p.y)\n",
    "    \n",
    "    def __mul__(self, num):\n",
    "        return Point(self.x * num, self.y * num)\n",
    "    \n",
    "    def __rmul__(self, num):\n",
    "        return Point(self.x * num, self.y * num)\n",
    "    \n",
    "    def __len__(self):\n",
    "        return self.x ** 2 + self.y ** 2\n",
    "    \n",
    "    def __getitem__(self, index):\n",
    "        if index == 0:\n",
    "            return self.x\n",
    "        elif index == 1:\n",
    "            return self.y\n",
    "        \n",
    "        raise Exception('invalid index')\n",
    "        \n",
    "    def __str__(self):\n",
    "        return 'x : {}, y : {}'.format(self.x, self.y)\n",
    "    \n",
    "    def __repr__(self):\n",
    "        return self__str__()\n",
    "        #return 'x : {}, y : {}'.format(self.x, self.y)\n",
    "        \n",
    "\n",
    "p1 = Point(3, 4)\n",
    "p2 = Point(4, 6)\n",
    "\n",
    "p1 + p2 + p1\n",
    "\n",
    "p3 = p1 * 4 # p1.__mul__(4)\n",
    "p4 = 4 * p1 # 4.__mul__(p1)\n",
    "\n",
    "print(len(p1))\n",
    "\n",
    "p1[0], p1[1]\n",
    "p1[34]"
   ]
  },
  {
   "cell_type": "markdown",
   "metadata": {},
   "source": [
    "* ** is vs ==**\n",
    " - is : reference가 가리키는 객체 자체가 같은 경우 True\n",
    " - == : reference가 가리키는 값들이 같은 경우 True"
   ]
  },
  {
   "cell_type": "code",
   "execution_count": null,
   "metadata": {},
   "outputs": [],
   "source": [
    "a = [1, 2, 3]\n",
    "b = a\n",
    "\n",
    "print (id(a), id(b))\n",
    "\n",
    "print(a is b)\n",
    "print(a == b)\n",
    "\n",
    "b = a[:]\n",
    "\n",
    "print (id(a), id(b))\n",
    "\n",
    "print(a is b)\n",
    "print(a == b)"
   ]
  },
  {
   "cell_type": "code",
   "execution_count": null,
   "metadata": {},
   "outputs": [],
   "source": [
    "import copy\n",
    "\n",
    "a = [[1, 2], [3, 4]]\n",
    "b = copy.copy(a)\n",
    "c = copy.deepcopy(a)\n",
    "\n",
    "a[0][0] = 10\n",
    "\n",
    "print(a, b, c)"
   ]
  },
  {
   "cell_type": "code",
   "execution_count": null,
   "metadata": {},
   "outputs": [],
   "source": [
    "class Word(object):\n",
    "    def __init__(self, text, email):\n",
    "        self.text = text\n",
    "        self.email = email\n",
    "        \n",
    "    def compare(self, word2):\n",
    "        return self.text.lower() == word2.text.lower()\n",
    "    \n",
    "    def __eq__(self, word2):\n",
    "        return self.text.lower() == word2.text.lower() and \\\n",
    "                self.email == word2.email\n",
    "    \n",
    "    def __len__(self):\n",
    "        return len(self.text)\n",
    "    \n",
    "    def length(self):\n",
    "        return len(self.text)\n",
    "    \n",
    "    def append(self, word2):\n",
    "        return Word(self.text + ' ' + word2.text)\n",
    "    \n",
    "    def __add__(self, word2):\n",
    "        return Word(self.text + ' ' + word2.text)\n",
    "    \n",
    "    def __str__(self):\n",
    "        return self.text\n",
    "    \n",
    "    def __repr__(self):\n",
    "        return self.text\n",
    "\n",
    "         \n",
    "    \n",
    "w1 = Word('aaron', 'test@gmail.com')\n",
    "w2 = Word('Aaron', 'test@gmail.com')\n",
    "w3 = Word('Bob', '')\n",
    "\n",
    "print(w1.compare(w2))\n",
    "print(w1 == w2)\n",
    "print(w1.__eq__(w2))\n",
    "\n",
    "\n",
    "print(len(w1))\n",
    "print(len(w2))\n",
    "\n",
    "print(w1.length())\n",
    "\n",
    "\n",
    "\n",
    "w1"
   ]
  },
  {
   "cell_type": "markdown",
   "metadata": {},
   "source": [
    "* 연습문제 \n",
    "  - Word 클래스를 생성하여 Word를 원소로 갖는 리스트를 생성하세요.\n",
    "   1. 문자의 길이를 기준으로 정렬해보세요. ( __len__(self)를 정의하면 len(w1)을 사용 할 수 있습니다. )\n",
    "   2. 두번째 문자를 기준으로 정렬해보세요. ( __getitem__(self, key)를 정의하면 w1[]을 사용 할 수 있습니다. )"
   ]
  },
  {
   "cell_type": "code",
   "execution_count": null,
   "metadata": {},
   "outputs": [],
   "source": [
    "class Word:\n",
    "    def __init__(self, name):\n",
    "        self.name = name\n",
    "        \n",
    "    def __len__(self):\n",
    "        return len(self.name)\n",
    "    \n",
    "    def __getitem__(self, key):\n",
    "        return self.name[key]\n",
    "    \n",
    "    def __str__(self):\n",
    "        return self.name\n",
    "    \n",
    "    def __repr__(self):\n",
    "        return self.name\n",
    "    \n",
    "words = [Word('car'), Word('apple'), Word('elephant'), Word('python3')]\n",
    "\n",
    "\n",
    "#sorted(words, key=lambda x:len(x))\n",
    "sorted(words, key=lambda x:x[1])\n",
    "         "
   ]
  },
  {
   "cell_type": "markdown",
   "metadata": {},
   "source": [
    "* **composition(포함)**\n",
    " - 다른 클래스의 기능을 그대로 이용하고 싶으나, 상속을 피하고 싶을 때 사용\n",
    " - 컴포지션, 또는 어그리게이션(aggregation)이라고 한다.\n",
    " - 주로 의미적으로 is-a 관계가 맞지 않을 때 사용한다"
   ]
  },
  {
   "cell_type": "code",
   "execution_count": null,
   "metadata": {
    "collapsed": true
   },
   "outputs": [],
   "source": [
    "class Bill(object):\n",
    "    def __init__(self, desc):\n",
    "        self.desc = desc\n",
    "        \n",
    "    def eat(self):\n",
    "        pass\n",
    "        \n",
    "class Tail(object):\n",
    "    def __init__(self, length):\n",
    "        self.length = length\n",
    "        \n",
    "        \n",
    "class Duck:\n",
    "    \n",
    "    def __init__(self, bill, tail, name):\n",
    "        self.bill = bill\n",
    "        self.tail = tail\n",
    "        self.name = name\n",
    "        \n",
    "    def eat(self):\n",
    "        self.bill.eat()\n",
    "        \n",
    "    def about(self):\n",
    "        print(self.name, 'has a bill and it is', self.bill.desc, 'and a tail length of', self.tail.length)\n",
    "        \n",
    "tail = Tail(8)\n",
    "bill = Bill('very good')\n",
    "\n",
    "duck = Duck(bill, tail, 'aaron')\n",
    "duck.eat()"
   ]
  },
  {
   "cell_type": "markdown",
   "metadata": {},
   "source": [
    "* 파이썬의 경우, 복소수를 지원하지만, 직접 만들어 봅시다"
   ]
  },
  {
   "cell_type": "code",
   "execution_count": null,
   "metadata": {
    "collapsed": true
   },
   "outputs": [],
   "source": [
    "1 + 4j + 2 + 5j"
   ]
  },
  {
   "cell_type": "markdown",
   "metadata": {},
   "source": [
    "* 연습문제)\n",
    " - 복소수 클래스를 정의 해봅시다.\n",
    " - 덧셈, 뺄셈, 곱셈 연산자 지원\n",
    " - 길이 (복소수의 크기) 지원 \n",
    " - 복소수 출력 '1 + 4j'와 같이 표현\n",
    " - 비교 연산 ==, != 지원\n",
    " - >=, <= , <, > 연산 지원\n",
    " - 절대값 지원\n"
   ]
  },
  {
   "cell_type": "code",
   "execution_count": null,
   "metadata": {},
   "outputs": [],
   "source": [
    "import math\n",
    "\n",
    "class ComplexNumber:\n",
    "    def __init__(self, real, img):\n",
    "        self.real = real\n",
    "        self.img = img\n",
    "        \n",
    "    def __add__(self, cn):\n",
    "        return ComplexNumber(self.real + cn.real, self.img + cn.img)\n",
    "    \n",
    "    def __mul__(self, cn):\n",
    "        real = self.real * cn.real - self.img * cn.img\n",
    "        img =  self.img * cn.real + self.real * cn.img\n",
    "        \n",
    "        return ComplexNumber(real, img)\n",
    "    \n",
    "    def __eq__(self, cn):\n",
    "        return self.real == cn.real and self.img == cn.img\n",
    "    \n",
    "    def __str__(self):\n",
    "        return '{} {} {}'.format(self.real, '+' if self.img > 0 else '-' , abs(self.img))\n",
    "    \n",
    "    def __repr__(self):\n",
    "        return '{} {} {}i'.format(self.real, '+' if self.img > 0 else '-' , abs(self.img))\n",
    "    \n",
    "    def __abs__(self):\n",
    "        return math.sqrt(self.real ** 2 + self.img ** 2)\n",
    "    \n",
    "c1 = ComplexNumber(2, 3)\n",
    "c2 = ComplexNumber(3, -4)\n",
    "\n",
    "abs(c1 + c2)"
   ]
  },
  {
   "cell_type": "markdown",
   "metadata": {},
   "source": [
    "* **연습문제)**\n",
    " 1. stack 구현\n",
    " 2. queue 구현"
   ]
  },
  {
   "cell_type": "code",
   "execution_count": null,
   "metadata": {
    "collapsed": true
   },
   "outputs": [],
   "source": [
    "class Stack:\n",
    "    def __init__(self, capacity):\n",
    "        self.capacity = capacity\n",
    "        self.stack = []\n",
    "        \n",
    "    # 스택이 비었다면 True, 아닌 경우 False\n",
    "    def is_empty(self):\n",
    "        return len(self.stack) == 0\n",
    "    \n",
    "    # 스택이 차있다면 True, 아닌 경우 False\n",
    "    def is_full(self):\n",
    "        return len(self.stack) == self.capacity\n",
    "    \n",
    "    def count(self):\n",
    "        return len(self.stack)\n",
    "    \n",
    "    # 스택의 공간이 있다면 데이터 삽입 후 True, 아닌 경우 False 반환\n",
    "    def push(self, data):\n",
    "        if self.is_full():\n",
    "            raise Exception('stack is already full')\n",
    "            \n",
    "        self.stack.append(data)\n",
    "    \n",
    "    # 스택에서 top 데이터 삭제, 이때 삭제된 데이터 반환\n",
    "    def pop(self):\n",
    "        if self.is_empty():\n",
    "            raise Exception('stack is empty')\n",
    "            \n",
    "        return self.stack.pop()\n",
    "    \n",
    "    # 스택의 top 데이터 반환\n",
    "    def top(self):\n",
    "        if self.is_empty():\n",
    "            raise Exception('stack is empty')\n",
    "        \n",
    "        return self.stack[-1]\n",
    "    \n",
    "    # 스택의 현재 데이터 출력\n",
    "    def show(self):\n",
    "        print(self.stack)\n",
    "        "
   ]
  },
  {
   "cell_type": "code",
   "execution_count": null,
   "metadata": {},
   "outputs": [],
   "source": [
    "stack = Stack(5)\n",
    "\n",
    "stack.pop()\n",
    "stack.show()\n",
    "\n",
    "stack.push(1)\n",
    "stack.push(3)\n",
    "stack.push(4)\n",
    "stack.push(9)\n",
    "\n",
    "stack.show()\n",
    "\n",
    "print(stack.pop())\n",
    "\n",
    "stack.show()\n",
    "\n",
    "stack.push(19)\n",
    "stack.push(20)\n",
    "\n",
    "stack.show()\n",
    "\n",
    "stack.push(990)"
   ]
  },
  {
   "cell_type": "code",
   "execution_count": null,
   "metadata": {
    "collapsed": true
   },
   "outputs": [],
   "source": [
    "class Queue:\n",
    "    def __init__(self, capacity):\n",
    "        self.capacity = capacity\n",
    "        self.data = []\n",
    "        \n",
    "    def is_empty(self):\n",
    "        pass\n",
    "    \n",
    "    def is_full(self):\n",
    "        pass\n",
    "    \n",
    "    def count(self):\n",
    "        pass\n",
    "    \n",
    "    def enqueue(self, value):\n",
    "        pass\n",
    "    \n",
    "    def dequeue(self):\n",
    "        pass\n",
    "    \n",
    "    def show(self):\n",
    "        pass\n",
    "        "
   ]
  }
 ],
 "metadata": {
  "kernelspec": {
   "display_name": "Python 3",
   "language": "python",
   "name": "python3"
  },
  "language_info": {
   "codemirror_mode": {
    "name": "ipython",
    "version": 3
   },
   "file_extension": ".py",
   "mimetype": "text/x-python",
   "name": "python",
   "nbconvert_exporter": "python",
   "pygments_lexer": "ipython3",
   "version": "3.6.1"
  }
 },
 "nbformat": 4,
 "nbformat_minor": 1
}
